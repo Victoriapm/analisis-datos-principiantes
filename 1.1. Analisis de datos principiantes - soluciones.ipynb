{
 "cells": [
  {
   "cell_type": "markdown",
   "metadata": {},
   "source": [
    "# Taller de análisis de datos con Python para principiantes"
   ]
  },
  {
   "cell_type": "markdown",
   "metadata": {},
   "source": [
    "## ***1. Imports***\n",
    "**Importamos las librerias**"
   ]
  },
  {
   "cell_type": "code",
   "execution_count": 203,
   "metadata": {},
   "outputs": [],
   "source": [
    "import pandas as pd\n",
    "import numpy as np \n",
    "import matplotlib.pyplot as plt\n",
    "%matplotlib inline"
   ]
  },
  {
   "cell_type": "markdown",
   "metadata": {},
   "source": [
    "**Importamos los datos en dataframes**"
   ]
  },
  {
   "cell_type": "code",
   "execution_count": 204,
   "metadata": {},
   "outputs": [],
   "source": [
    "df2020 = pd.read_csv('datos/SUELDOS_FUNCIONARIOS_2020.csv')"
   ]
  },
  {
   "cell_type": "code",
   "execution_count": 205,
   "metadata": {},
   "outputs": [],
   "source": [
    "df2015 = pd.read_csv('datos/sueldos-funcionarios-2015.csv',delimiter=';')"
   ]
  },
  {
   "cell_type": "code",
   "execution_count": 206,
   "metadata": {},
   "outputs": [],
   "source": [
    "?pd.read_csv"
   ]
  },
  {
   "cell_type": "markdown",
   "metadata": {},
   "source": [
    "## 2. Exploración de datos\n",
    "Vamos a revisar los datos que acabamos de importar. \n",
    "- `df.head()` nos permite ver las primeras 5 lineas del df\n",
    "- `df.tail()` nos permite ver las últimas 5 lineas del df\n",
    "- `df.sample(n)` nos permite ver n lineas al azar del df"
   ]
  },
  {
   "cell_type": "code",
   "execution_count": 207,
   "metadata": {},
   "outputs": [
    {
     "data": {
      "text/html": [
       "<div>\n",
       "<style scoped>\n",
       "    .dataframe tbody tr th:only-of-type {\n",
       "        vertical-align: middle;\n",
       "    }\n",
       "\n",
       "    .dataframe tbody tr th {\n",
       "        vertical-align: top;\n",
       "    }\n",
       "\n",
       "    .dataframe thead th {\n",
       "        text-align: right;\n",
       "    }\n",
       "</style>\n",
       "<table border=\"1\" class=\"dataframe\">\n",
       "  <thead>\n",
       "    <tr style=\"text-align: right;\">\n",
       "      <th></th>\n",
       "      <th>CUIL</th>\n",
       "      <th>AÑO</th>\n",
       "      <th>MES</th>\n",
       "      <th>APELLIDO_Y_NOMBRE</th>\n",
       "      <th>REPARTICION</th>\n",
       "      <th>ASIGNACIÓN POR CARGO\\n(I)</th>\n",
       "      <th>AGUINALDO\\n(II)</th>\n",
       "      <th>TOTAL SALARIO BRUTO\\n(I) + (II)</th>\n",
       "      <th>OBSERVACIONES</th>\n",
       "    </tr>\n",
       "  </thead>\n",
       "  <tbody>\n",
       "    <tr>\n",
       "      <th>0</th>\n",
       "      <td>20-17692128-6</td>\n",
       "      <td>2020</td>\n",
       "      <td>1</td>\n",
       "      <td>RODRIGUEZ LARRETA, HORACIO ANTONIO</td>\n",
       "      <td>Jefe de Gobierno</td>\n",
       "      <td>$245,812</td>\n",
       "      <td>$0</td>\n",
       "      <td>$245,812</td>\n",
       "      <td>NaN</td>\n",
       "    </tr>\n",
       "    <tr>\n",
       "      <th>1</th>\n",
       "      <td>20-17692128-6</td>\n",
       "      <td>2020</td>\n",
       "      <td>2</td>\n",
       "      <td>RODRIGUEZ LARRETA, HORACIO ANTONIO</td>\n",
       "      <td>Jefe de Gobierno</td>\n",
       "      <td>$245,812</td>\n",
       "      <td>$0</td>\n",
       "      <td>$245,812</td>\n",
       "      <td>NaN</td>\n",
       "    </tr>\n",
       "    <tr>\n",
       "      <th>2</th>\n",
       "      <td>20-17692128-6</td>\n",
       "      <td>2020</td>\n",
       "      <td>3</td>\n",
       "      <td>RODRIGUEZ LARRETA, HORACIO ANTONIO</td>\n",
       "      <td>Jefe de Gobierno</td>\n",
       "      <td>$245,812</td>\n",
       "      <td>$0</td>\n",
       "      <td>$245,812</td>\n",
       "      <td>NaN</td>\n",
       "    </tr>\n",
       "    <tr>\n",
       "      <th>3</th>\n",
       "      <td>20-17692128-6</td>\n",
       "      <td>2020</td>\n",
       "      <td>4</td>\n",
       "      <td>RODRIGUEZ LARRETA, HORACIO ANTONIO</td>\n",
       "      <td>Jefe de Gobierno</td>\n",
       "      <td>$245,812</td>\n",
       "      <td>$0</td>\n",
       "      <td>$245,812</td>\n",
       "      <td>NaN</td>\n",
       "    </tr>\n",
       "    <tr>\n",
       "      <th>4</th>\n",
       "      <td>20-17692128-6</td>\n",
       "      <td>2020</td>\n",
       "      <td>5</td>\n",
       "      <td>RODRIGUEZ LARRETA, HORACIO ANTONIO</td>\n",
       "      <td>Jefe de Gobierno</td>\n",
       "      <td>$245,812</td>\n",
       "      <td>$0</td>\n",
       "      <td>$245,812</td>\n",
       "      <td>Con el objetivo de disponer de mayores recurso...</td>\n",
       "    </tr>\n",
       "  </tbody>\n",
       "</table>\n",
       "</div>"
      ],
      "text/plain": [
       "            CUIL   AÑO  MES                   APELLIDO_Y_NOMBRE  \\\n",
       "0  20-17692128-6  2020    1  RODRIGUEZ LARRETA, HORACIO ANTONIO   \n",
       "1  20-17692128-6  2020    2  RODRIGUEZ LARRETA, HORACIO ANTONIO   \n",
       "2  20-17692128-6  2020    3  RODRIGUEZ LARRETA, HORACIO ANTONIO   \n",
       "3  20-17692128-6  2020    4  RODRIGUEZ LARRETA, HORACIO ANTONIO   \n",
       "4  20-17692128-6  2020    5  RODRIGUEZ LARRETA, HORACIO ANTONIO   \n",
       "\n",
       "        REPARTICION ASIGNACIÓN POR CARGO\\n(I) AGUINALDO\\n(II)  \\\n",
       "0  Jefe de Gobierno                  $245,812              $0   \n",
       "1  Jefe de Gobierno                  $245,812              $0   \n",
       "2  Jefe de Gobierno                  $245,812              $0   \n",
       "3  Jefe de Gobierno                  $245,812              $0   \n",
       "4  Jefe de Gobierno                  $245,812              $0   \n",
       "\n",
       "  TOTAL SALARIO BRUTO\\n(I) + (II)  \\\n",
       "0                        $245,812   \n",
       "1                        $245,812   \n",
       "2                        $245,812   \n",
       "3                        $245,812   \n",
       "4                        $245,812   \n",
       "\n",
       "                                       OBSERVACIONES  \n",
       "0                                                NaN  \n",
       "1                                                NaN  \n",
       "2                                                NaN  \n",
       "3                                                NaN  \n",
       "4  Con el objetivo de disponer de mayores recurso...  "
      ]
     },
     "execution_count": 207,
     "metadata": {},
     "output_type": "execute_result"
    }
   ],
   "source": [
    "df2020.head()"
   ]
  },
  {
   "cell_type": "code",
   "execution_count": 208,
   "metadata": {},
   "outputs": [
    {
     "data": {
      "text/html": [
       "<div>\n",
       "<style scoped>\n",
       "    .dataframe tbody tr th:only-of-type {\n",
       "        vertical-align: middle;\n",
       "    }\n",
       "\n",
       "    .dataframe tbody tr th {\n",
       "        vertical-align: top;\n",
       "    }\n",
       "\n",
       "    .dataframe thead th {\n",
       "        text-align: right;\n",
       "    }\n",
       "</style>\n",
       "<table border=\"1\" class=\"dataframe\">\n",
       "  <thead>\n",
       "    <tr style=\"text-align: right;\">\n",
       "      <th></th>\n",
       "      <th>CUIL</th>\n",
       "      <th>AÑO</th>\n",
       "      <th>MES</th>\n",
       "      <th>APELLIDO_Y_NOMBRE</th>\n",
       "      <th>REPARTICION</th>\n",
       "      <th>ASIGNACIÓN POR CARGO\\n(I)</th>\n",
       "      <th>AGUINALDO\\n(II)</th>\n",
       "      <th>TOTAL SALARIO BRUTO\\n(I) + (II)</th>\n",
       "      <th>OBSERVACIONES</th>\n",
       "    </tr>\n",
       "  </thead>\n",
       "  <tbody>\n",
       "    <tr>\n",
       "      <th>240</th>\n",
       "      <td>27-26690980-8</td>\n",
       "      <td>2020</td>\n",
       "      <td>4</td>\n",
       "      <td>UHALDE, MARIA PAULA</td>\n",
       "      <td>SECR Transformación Cultural</td>\n",
       "      <td>$283,458</td>\n",
       "      <td>$0</td>\n",
       "      <td>$283,458</td>\n",
       "      <td>NaN</td>\n",
       "    </tr>\n",
       "    <tr>\n",
       "      <th>241</th>\n",
       "      <td>27-26690980-8</td>\n",
       "      <td>2020</td>\n",
       "      <td>5</td>\n",
       "      <td>UHALDE, MARIA PAULA</td>\n",
       "      <td>SECR Transformación Cultural</td>\n",
       "      <td>$283,458</td>\n",
       "      <td>$0</td>\n",
       "      <td>$283,458</td>\n",
       "      <td>Con el objetivo de disponer de mayores recurso...</td>\n",
       "    </tr>\n",
       "    <tr>\n",
       "      <th>242</th>\n",
       "      <td>27-26690980-8</td>\n",
       "      <td>2020</td>\n",
       "      <td>6</td>\n",
       "      <td>UHALDE, MARIA PAULA</td>\n",
       "      <td>SECR Transformación Cultural</td>\n",
       "      <td>$283,458</td>\n",
       "      <td>$0</td>\n",
       "      <td>$283,458</td>\n",
       "      <td>Por Decreto 246/AJG/2020 y Resolución 3.513/MH...</td>\n",
       "    </tr>\n",
       "    <tr>\n",
       "      <th>243</th>\n",
       "      <td>27-26690980-8</td>\n",
       "      <td>2020</td>\n",
       "      <td>7</td>\n",
       "      <td>UHALDE, MARIA PAULA</td>\n",
       "      <td>SECR Transformación Cultural</td>\n",
       "      <td>$283,458</td>\n",
       "      <td>$0</td>\n",
       "      <td>$283,458</td>\n",
       "      <td>Con el objetivo de disponer de mayores recurso...</td>\n",
       "    </tr>\n",
       "    <tr>\n",
       "      <th>244</th>\n",
       "      <td>27-26690980-8</td>\n",
       "      <td>2020</td>\n",
       "      <td>8</td>\n",
       "      <td>UHALDE, MARIA PAULA</td>\n",
       "      <td>SECR Transformación Cultural</td>\n",
       "      <td>$283,458</td>\n",
       "      <td>$141,729</td>\n",
       "      <td>$425,187</td>\n",
       "      <td>NaN</td>\n",
       "    </tr>\n",
       "  </tbody>\n",
       "</table>\n",
       "</div>"
      ],
      "text/plain": [
       "              CUIL   AÑO  MES    APELLIDO_Y_NOMBRE  \\\n",
       "240  27-26690980-8  2020    4  UHALDE, MARIA PAULA   \n",
       "241  27-26690980-8  2020    5  UHALDE, MARIA PAULA   \n",
       "242  27-26690980-8  2020    6  UHALDE, MARIA PAULA   \n",
       "243  27-26690980-8  2020    7  UHALDE, MARIA PAULA   \n",
       "244  27-26690980-8  2020    8  UHALDE, MARIA PAULA   \n",
       "\n",
       "                      REPARTICION ASIGNACIÓN POR CARGO\\n(I) AGUINALDO\\n(II)  \\\n",
       "240  SECR Transformación Cultural                  $283,458              $0   \n",
       "241  SECR Transformación Cultural                  $283,458              $0   \n",
       "242  SECR Transformación Cultural                  $283,458              $0   \n",
       "243  SECR Transformación Cultural                  $283,458              $0   \n",
       "244  SECR Transformación Cultural                  $283,458        $141,729   \n",
       "\n",
       "    TOTAL SALARIO BRUTO\\n(I) + (II)  \\\n",
       "240                        $283,458   \n",
       "241                        $283,458   \n",
       "242                        $283,458   \n",
       "243                        $283,458   \n",
       "244                        $425,187   \n",
       "\n",
       "                                         OBSERVACIONES  \n",
       "240                                                NaN  \n",
       "241  Con el objetivo de disponer de mayores recurso...  \n",
       "242  Por Decreto 246/AJG/2020 y Resolución 3.513/MH...  \n",
       "243  Con el objetivo de disponer de mayores recurso...  \n",
       "244                                                NaN  "
      ]
     },
     "execution_count": 208,
     "metadata": {},
     "output_type": "execute_result"
    }
   ],
   "source": [
    "df2020.tail()"
   ]
  },
  {
   "cell_type": "code",
   "execution_count": 209,
   "metadata": {},
   "outputs": [
    {
     "data": {
      "text/html": [
       "<div>\n",
       "<style scoped>\n",
       "    .dataframe tbody tr th:only-of-type {\n",
       "        vertical-align: middle;\n",
       "    }\n",
       "\n",
       "    .dataframe tbody tr th {\n",
       "        vertical-align: top;\n",
       "    }\n",
       "\n",
       "    .dataframe thead th {\n",
       "        text-align: right;\n",
       "    }\n",
       "</style>\n",
       "<table border=\"1\" class=\"dataframe\">\n",
       "  <thead>\n",
       "    <tr style=\"text-align: right;\">\n",
       "      <th></th>\n",
       "      <th>CUIL</th>\n",
       "      <th>AÑO</th>\n",
       "      <th>MES</th>\n",
       "      <th>APELLIDO_Y_NOMBRE</th>\n",
       "      <th>REPARTICION</th>\n",
       "      <th>ASIGNACIÓN POR CARGO\\n(I)</th>\n",
       "      <th>AGUINALDO\\n(II)</th>\n",
       "      <th>TOTAL SALARIO BRUTO\\n(I) + (II)</th>\n",
       "      <th>OBSERVACIONES</th>\n",
       "    </tr>\n",
       "  </thead>\n",
       "  <tbody>\n",
       "    <tr>\n",
       "      <th>41</th>\n",
       "      <td>20-21981279-6</td>\n",
       "      <td>2020</td>\n",
       "      <td>2</td>\n",
       "      <td>SCRENCI SILVA, BRUNO GUIDO</td>\n",
       "      <td>Ministerio de Gobierno</td>\n",
       "      <td>$311,939</td>\n",
       "      <td>$0</td>\n",
       "      <td>$311,939</td>\n",
       "      <td>NaN</td>\n",
       "    </tr>\n",
       "  </tbody>\n",
       "</table>\n",
       "</div>"
      ],
      "text/plain": [
       "             CUIL   AÑO  MES           APELLIDO_Y_NOMBRE  \\\n",
       "41  20-21981279-6  2020    2  SCRENCI SILVA, BRUNO GUIDO   \n",
       "\n",
       "               REPARTICION ASIGNACIÓN POR CARGO\\n(I) AGUINALDO\\n(II)  \\\n",
       "41  Ministerio de Gobierno                  $311,939              $0   \n",
       "\n",
       "   TOTAL SALARIO BRUTO\\n(I) + (II) OBSERVACIONES  \n",
       "41                        $311,939           NaN  "
      ]
     },
     "execution_count": 209,
     "metadata": {},
     "output_type": "execute_result"
    }
   ],
   "source": [
    "df2020.sample()"
   ]
  },
  {
   "cell_type": "markdown",
   "metadata": {},
   "source": [
    "**Usando el nombre del df podemos imprimirlo (casi) en su totalidad**"
   ]
  },
  {
   "cell_type": "code",
   "execution_count": 210,
   "metadata": {},
   "outputs": [
    {
     "data": {
      "text/html": [
       "<div>\n",
       "<style scoped>\n",
       "    .dataframe tbody tr th:only-of-type {\n",
       "        vertical-align: middle;\n",
       "    }\n",
       "\n",
       "    .dataframe tbody tr th {\n",
       "        vertical-align: top;\n",
       "    }\n",
       "\n",
       "    .dataframe thead th {\n",
       "        text-align: right;\n",
       "    }\n",
       "</style>\n",
       "<table border=\"1\" class=\"dataframe\">\n",
       "  <thead>\n",
       "    <tr style=\"text-align: right;\">\n",
       "      <th></th>\n",
       "      <th>CUIL</th>\n",
       "      <th>AÑO</th>\n",
       "      <th>MES</th>\n",
       "      <th>APELLIDO_Y_NOMBRE</th>\n",
       "      <th>REPARTICION</th>\n",
       "      <th>ASIGNACIÓN POR CARGO\\n(I)</th>\n",
       "      <th>AGUINALDO\\n(II)</th>\n",
       "      <th>TOTAL SALARIO BRUTO\\n(I) + (II)</th>\n",
       "      <th>OBSERVACIONES</th>\n",
       "    </tr>\n",
       "  </thead>\n",
       "  <tbody>\n",
       "    <tr>\n",
       "      <th>0</th>\n",
       "      <td>20-17692128-6</td>\n",
       "      <td>2020</td>\n",
       "      <td>1</td>\n",
       "      <td>RODRIGUEZ LARRETA, HORACIO ANTONIO</td>\n",
       "      <td>Jefe de Gobierno</td>\n",
       "      <td>$245,812</td>\n",
       "      <td>$0</td>\n",
       "      <td>$245,812</td>\n",
       "      <td>NaN</td>\n",
       "    </tr>\n",
       "    <tr>\n",
       "      <th>1</th>\n",
       "      <td>20-17692128-6</td>\n",
       "      <td>2020</td>\n",
       "      <td>2</td>\n",
       "      <td>RODRIGUEZ LARRETA, HORACIO ANTONIO</td>\n",
       "      <td>Jefe de Gobierno</td>\n",
       "      <td>$245,812</td>\n",
       "      <td>$0</td>\n",
       "      <td>$245,812</td>\n",
       "      <td>NaN</td>\n",
       "    </tr>\n",
       "    <tr>\n",
       "      <th>2</th>\n",
       "      <td>20-17692128-6</td>\n",
       "      <td>2020</td>\n",
       "      <td>3</td>\n",
       "      <td>RODRIGUEZ LARRETA, HORACIO ANTONIO</td>\n",
       "      <td>Jefe de Gobierno</td>\n",
       "      <td>$245,812</td>\n",
       "      <td>$0</td>\n",
       "      <td>$245,812</td>\n",
       "      <td>NaN</td>\n",
       "    </tr>\n",
       "    <tr>\n",
       "      <th>3</th>\n",
       "      <td>20-17692128-6</td>\n",
       "      <td>2020</td>\n",
       "      <td>4</td>\n",
       "      <td>RODRIGUEZ LARRETA, HORACIO ANTONIO</td>\n",
       "      <td>Jefe de Gobierno</td>\n",
       "      <td>$245,812</td>\n",
       "      <td>$0</td>\n",
       "      <td>$245,812</td>\n",
       "      <td>NaN</td>\n",
       "    </tr>\n",
       "    <tr>\n",
       "      <th>4</th>\n",
       "      <td>20-17692128-6</td>\n",
       "      <td>2020</td>\n",
       "      <td>5</td>\n",
       "      <td>RODRIGUEZ LARRETA, HORACIO ANTONIO</td>\n",
       "      <td>Jefe de Gobierno</td>\n",
       "      <td>$245,812</td>\n",
       "      <td>$0</td>\n",
       "      <td>$245,812</td>\n",
       "      <td>Con el objetivo de disponer de mayores recurso...</td>\n",
       "    </tr>\n",
       "    <tr>\n",
       "      <th>...</th>\n",
       "      <td>...</td>\n",
       "      <td>...</td>\n",
       "      <td>...</td>\n",
       "      <td>...</td>\n",
       "      <td>...</td>\n",
       "      <td>...</td>\n",
       "      <td>...</td>\n",
       "      <td>...</td>\n",
       "      <td>...</td>\n",
       "    </tr>\n",
       "    <tr>\n",
       "      <th>240</th>\n",
       "      <td>27-26690980-8</td>\n",
       "      <td>2020</td>\n",
       "      <td>4</td>\n",
       "      <td>UHALDE, MARIA PAULA</td>\n",
       "      <td>SECR Transformación Cultural</td>\n",
       "      <td>$283,458</td>\n",
       "      <td>$0</td>\n",
       "      <td>$283,458</td>\n",
       "      <td>NaN</td>\n",
       "    </tr>\n",
       "    <tr>\n",
       "      <th>241</th>\n",
       "      <td>27-26690980-8</td>\n",
       "      <td>2020</td>\n",
       "      <td>5</td>\n",
       "      <td>UHALDE, MARIA PAULA</td>\n",
       "      <td>SECR Transformación Cultural</td>\n",
       "      <td>$283,458</td>\n",
       "      <td>$0</td>\n",
       "      <td>$283,458</td>\n",
       "      <td>Con el objetivo de disponer de mayores recurso...</td>\n",
       "    </tr>\n",
       "    <tr>\n",
       "      <th>242</th>\n",
       "      <td>27-26690980-8</td>\n",
       "      <td>2020</td>\n",
       "      <td>6</td>\n",
       "      <td>UHALDE, MARIA PAULA</td>\n",
       "      <td>SECR Transformación Cultural</td>\n",
       "      <td>$283,458</td>\n",
       "      <td>$0</td>\n",
       "      <td>$283,458</td>\n",
       "      <td>Por Decreto 246/AJG/2020 y Resolución 3.513/MH...</td>\n",
       "    </tr>\n",
       "    <tr>\n",
       "      <th>243</th>\n",
       "      <td>27-26690980-8</td>\n",
       "      <td>2020</td>\n",
       "      <td>7</td>\n",
       "      <td>UHALDE, MARIA PAULA</td>\n",
       "      <td>SECR Transformación Cultural</td>\n",
       "      <td>$283,458</td>\n",
       "      <td>$0</td>\n",
       "      <td>$283,458</td>\n",
       "      <td>Con el objetivo de disponer de mayores recurso...</td>\n",
       "    </tr>\n",
       "    <tr>\n",
       "      <th>244</th>\n",
       "      <td>27-26690980-8</td>\n",
       "      <td>2020</td>\n",
       "      <td>8</td>\n",
       "      <td>UHALDE, MARIA PAULA</td>\n",
       "      <td>SECR Transformación Cultural</td>\n",
       "      <td>$283,458</td>\n",
       "      <td>$141,729</td>\n",
       "      <td>$425,187</td>\n",
       "      <td>NaN</td>\n",
       "    </tr>\n",
       "  </tbody>\n",
       "</table>\n",
       "<p>245 rows × 9 columns</p>\n",
       "</div>"
      ],
      "text/plain": [
       "              CUIL   AÑO  MES                   APELLIDO_Y_NOMBRE  \\\n",
       "0    20-17692128-6  2020    1  RODRIGUEZ LARRETA, HORACIO ANTONIO   \n",
       "1    20-17692128-6  2020    2  RODRIGUEZ LARRETA, HORACIO ANTONIO   \n",
       "2    20-17692128-6  2020    3  RODRIGUEZ LARRETA, HORACIO ANTONIO   \n",
       "3    20-17692128-6  2020    4  RODRIGUEZ LARRETA, HORACIO ANTONIO   \n",
       "4    20-17692128-6  2020    5  RODRIGUEZ LARRETA, HORACIO ANTONIO   \n",
       "..             ...   ...  ...                                 ...   \n",
       "240  27-26690980-8  2020    4                 UHALDE, MARIA PAULA   \n",
       "241  27-26690980-8  2020    5                 UHALDE, MARIA PAULA   \n",
       "242  27-26690980-8  2020    6                 UHALDE, MARIA PAULA   \n",
       "243  27-26690980-8  2020    7                 UHALDE, MARIA PAULA   \n",
       "244  27-26690980-8  2020    8                 UHALDE, MARIA PAULA   \n",
       "\n",
       "                      REPARTICION ASIGNACIÓN POR CARGO\\n(I) AGUINALDO\\n(II)  \\\n",
       "0                Jefe de Gobierno                  $245,812              $0   \n",
       "1                Jefe de Gobierno                  $245,812              $0   \n",
       "2                Jefe de Gobierno                  $245,812              $0   \n",
       "3                Jefe de Gobierno                  $245,812              $0   \n",
       "4                Jefe de Gobierno                  $245,812              $0   \n",
       "..                            ...                       ...             ...   \n",
       "240  SECR Transformación Cultural                  $283,458              $0   \n",
       "241  SECR Transformación Cultural                  $283,458              $0   \n",
       "242  SECR Transformación Cultural                  $283,458              $0   \n",
       "243  SECR Transformación Cultural                  $283,458              $0   \n",
       "244  SECR Transformación Cultural                  $283,458        $141,729   \n",
       "\n",
       "    TOTAL SALARIO BRUTO\\n(I) + (II)  \\\n",
       "0                          $245,812   \n",
       "1                          $245,812   \n",
       "2                          $245,812   \n",
       "3                          $245,812   \n",
       "4                          $245,812   \n",
       "..                              ...   \n",
       "240                        $283,458   \n",
       "241                        $283,458   \n",
       "242                        $283,458   \n",
       "243                        $283,458   \n",
       "244                        $425,187   \n",
       "\n",
       "                                         OBSERVACIONES  \n",
       "0                                                  NaN  \n",
       "1                                                  NaN  \n",
       "2                                                  NaN  \n",
       "3                                                  NaN  \n",
       "4    Con el objetivo de disponer de mayores recurso...  \n",
       "..                                                 ...  \n",
       "240                                                NaN  \n",
       "241  Con el objetivo de disponer de mayores recurso...  \n",
       "242  Por Decreto 246/AJG/2020 y Resolución 3.513/MH...  \n",
       "243  Con el objetivo de disponer de mayores recurso...  \n",
       "244                                                NaN  \n",
       "\n",
       "[245 rows x 9 columns]"
      ]
     },
     "execution_count": 210,
     "metadata": {},
     "output_type": "execute_result"
    }
   ],
   "source": [
    "df2020"
   ]
  },
  {
   "cell_type": "markdown",
   "metadata": {},
   "source": [
    "**En las opciones de display podemos definir cuantas filas queremos ver**"
   ]
  },
  {
   "cell_type": "code",
   "execution_count": 211,
   "metadata": {},
   "outputs": [],
   "source": [
    "pd.options.display.max_rows = 10"
   ]
  },
  {
   "cell_type": "code",
   "execution_count": 212,
   "metadata": {},
   "outputs": [
    {
     "data": {
      "text/html": [
       "<div>\n",
       "<style scoped>\n",
       "    .dataframe tbody tr th:only-of-type {\n",
       "        vertical-align: middle;\n",
       "    }\n",
       "\n",
       "    .dataframe tbody tr th {\n",
       "        vertical-align: top;\n",
       "    }\n",
       "\n",
       "    .dataframe thead th {\n",
       "        text-align: right;\n",
       "    }\n",
       "</style>\n",
       "<table border=\"1\" class=\"dataframe\">\n",
       "  <thead>\n",
       "    <tr style=\"text-align: right;\">\n",
       "      <th></th>\n",
       "      <th>CUIL</th>\n",
       "      <th>AÑO</th>\n",
       "      <th>MES</th>\n",
       "      <th>APELLIDO_Y_NOMBRE</th>\n",
       "      <th>REPARTICION</th>\n",
       "      <th>ASIGNACIÓN POR CARGO\\n(I)</th>\n",
       "      <th>AGUINALDO\\n(II)</th>\n",
       "      <th>TOTAL SALARIO BRUTO\\n(I) + (II)</th>\n",
       "      <th>OBSERVACIONES</th>\n",
       "    </tr>\n",
       "  </thead>\n",
       "  <tbody>\n",
       "    <tr>\n",
       "      <th>0</th>\n",
       "      <td>20-17692128-6</td>\n",
       "      <td>2020</td>\n",
       "      <td>1</td>\n",
       "      <td>RODRIGUEZ LARRETA, HORACIO ANTONIO</td>\n",
       "      <td>Jefe de Gobierno</td>\n",
       "      <td>$245,812</td>\n",
       "      <td>$0</td>\n",
       "      <td>$245,812</td>\n",
       "      <td>NaN</td>\n",
       "    </tr>\n",
       "    <tr>\n",
       "      <th>1</th>\n",
       "      <td>20-17692128-6</td>\n",
       "      <td>2020</td>\n",
       "      <td>2</td>\n",
       "      <td>RODRIGUEZ LARRETA, HORACIO ANTONIO</td>\n",
       "      <td>Jefe de Gobierno</td>\n",
       "      <td>$245,812</td>\n",
       "      <td>$0</td>\n",
       "      <td>$245,812</td>\n",
       "      <td>NaN</td>\n",
       "    </tr>\n",
       "    <tr>\n",
       "      <th>2</th>\n",
       "      <td>20-17692128-6</td>\n",
       "      <td>2020</td>\n",
       "      <td>3</td>\n",
       "      <td>RODRIGUEZ LARRETA, HORACIO ANTONIO</td>\n",
       "      <td>Jefe de Gobierno</td>\n",
       "      <td>$245,812</td>\n",
       "      <td>$0</td>\n",
       "      <td>$245,812</td>\n",
       "      <td>NaN</td>\n",
       "    </tr>\n",
       "    <tr>\n",
       "      <th>3</th>\n",
       "      <td>20-17692128-6</td>\n",
       "      <td>2020</td>\n",
       "      <td>4</td>\n",
       "      <td>RODRIGUEZ LARRETA, HORACIO ANTONIO</td>\n",
       "      <td>Jefe de Gobierno</td>\n",
       "      <td>$245,812</td>\n",
       "      <td>$0</td>\n",
       "      <td>$245,812</td>\n",
       "      <td>NaN</td>\n",
       "    </tr>\n",
       "    <tr>\n",
       "      <th>4</th>\n",
       "      <td>20-17692128-6</td>\n",
       "      <td>2020</td>\n",
       "      <td>5</td>\n",
       "      <td>RODRIGUEZ LARRETA, HORACIO ANTONIO</td>\n",
       "      <td>Jefe de Gobierno</td>\n",
       "      <td>$245,812</td>\n",
       "      <td>$0</td>\n",
       "      <td>$245,812</td>\n",
       "      <td>Con el objetivo de disponer de mayores recurso...</td>\n",
       "    </tr>\n",
       "    <tr>\n",
       "      <th>...</th>\n",
       "      <td>...</td>\n",
       "      <td>...</td>\n",
       "      <td>...</td>\n",
       "      <td>...</td>\n",
       "      <td>...</td>\n",
       "      <td>...</td>\n",
       "      <td>...</td>\n",
       "      <td>...</td>\n",
       "      <td>...</td>\n",
       "    </tr>\n",
       "    <tr>\n",
       "      <th>240</th>\n",
       "      <td>27-26690980-8</td>\n",
       "      <td>2020</td>\n",
       "      <td>4</td>\n",
       "      <td>UHALDE, MARIA PAULA</td>\n",
       "      <td>SECR Transformación Cultural</td>\n",
       "      <td>$283,458</td>\n",
       "      <td>$0</td>\n",
       "      <td>$283,458</td>\n",
       "      <td>NaN</td>\n",
       "    </tr>\n",
       "    <tr>\n",
       "      <th>241</th>\n",
       "      <td>27-26690980-8</td>\n",
       "      <td>2020</td>\n",
       "      <td>5</td>\n",
       "      <td>UHALDE, MARIA PAULA</td>\n",
       "      <td>SECR Transformación Cultural</td>\n",
       "      <td>$283,458</td>\n",
       "      <td>$0</td>\n",
       "      <td>$283,458</td>\n",
       "      <td>Con el objetivo de disponer de mayores recurso...</td>\n",
       "    </tr>\n",
       "    <tr>\n",
       "      <th>242</th>\n",
       "      <td>27-26690980-8</td>\n",
       "      <td>2020</td>\n",
       "      <td>6</td>\n",
       "      <td>UHALDE, MARIA PAULA</td>\n",
       "      <td>SECR Transformación Cultural</td>\n",
       "      <td>$283,458</td>\n",
       "      <td>$0</td>\n",
       "      <td>$283,458</td>\n",
       "      <td>Por Decreto 246/AJG/2020 y Resolución 3.513/MH...</td>\n",
       "    </tr>\n",
       "    <tr>\n",
       "      <th>243</th>\n",
       "      <td>27-26690980-8</td>\n",
       "      <td>2020</td>\n",
       "      <td>7</td>\n",
       "      <td>UHALDE, MARIA PAULA</td>\n",
       "      <td>SECR Transformación Cultural</td>\n",
       "      <td>$283,458</td>\n",
       "      <td>$0</td>\n",
       "      <td>$283,458</td>\n",
       "      <td>Con el objetivo de disponer de mayores recurso...</td>\n",
       "    </tr>\n",
       "    <tr>\n",
       "      <th>244</th>\n",
       "      <td>27-26690980-8</td>\n",
       "      <td>2020</td>\n",
       "      <td>8</td>\n",
       "      <td>UHALDE, MARIA PAULA</td>\n",
       "      <td>SECR Transformación Cultural</td>\n",
       "      <td>$283,458</td>\n",
       "      <td>$141,729</td>\n",
       "      <td>$425,187</td>\n",
       "      <td>NaN</td>\n",
       "    </tr>\n",
       "  </tbody>\n",
       "</table>\n",
       "<p>245 rows × 9 columns</p>\n",
       "</div>"
      ],
      "text/plain": [
       "              CUIL   AÑO  MES                   APELLIDO_Y_NOMBRE  \\\n",
       "0    20-17692128-6  2020    1  RODRIGUEZ LARRETA, HORACIO ANTONIO   \n",
       "1    20-17692128-6  2020    2  RODRIGUEZ LARRETA, HORACIO ANTONIO   \n",
       "2    20-17692128-6  2020    3  RODRIGUEZ LARRETA, HORACIO ANTONIO   \n",
       "3    20-17692128-6  2020    4  RODRIGUEZ LARRETA, HORACIO ANTONIO   \n",
       "4    20-17692128-6  2020    5  RODRIGUEZ LARRETA, HORACIO ANTONIO   \n",
       "..             ...   ...  ...                                 ...   \n",
       "240  27-26690980-8  2020    4                 UHALDE, MARIA PAULA   \n",
       "241  27-26690980-8  2020    5                 UHALDE, MARIA PAULA   \n",
       "242  27-26690980-8  2020    6                 UHALDE, MARIA PAULA   \n",
       "243  27-26690980-8  2020    7                 UHALDE, MARIA PAULA   \n",
       "244  27-26690980-8  2020    8                 UHALDE, MARIA PAULA   \n",
       "\n",
       "                      REPARTICION ASIGNACIÓN POR CARGO\\n(I) AGUINALDO\\n(II)  \\\n",
       "0                Jefe de Gobierno                  $245,812              $0   \n",
       "1                Jefe de Gobierno                  $245,812              $0   \n",
       "2                Jefe de Gobierno                  $245,812              $0   \n",
       "3                Jefe de Gobierno                  $245,812              $0   \n",
       "4                Jefe de Gobierno                  $245,812              $0   \n",
       "..                            ...                       ...             ...   \n",
       "240  SECR Transformación Cultural                  $283,458              $0   \n",
       "241  SECR Transformación Cultural                  $283,458              $0   \n",
       "242  SECR Transformación Cultural                  $283,458              $0   \n",
       "243  SECR Transformación Cultural                  $283,458              $0   \n",
       "244  SECR Transformación Cultural                  $283,458        $141,729   \n",
       "\n",
       "    TOTAL SALARIO BRUTO\\n(I) + (II)  \\\n",
       "0                          $245,812   \n",
       "1                          $245,812   \n",
       "2                          $245,812   \n",
       "3                          $245,812   \n",
       "4                          $245,812   \n",
       "..                              ...   \n",
       "240                        $283,458   \n",
       "241                        $283,458   \n",
       "242                        $283,458   \n",
       "243                        $283,458   \n",
       "244                        $425,187   \n",
       "\n",
       "                                         OBSERVACIONES  \n",
       "0                                                  NaN  \n",
       "1                                                  NaN  \n",
       "2                                                  NaN  \n",
       "3                                                  NaN  \n",
       "4    Con el objetivo de disponer de mayores recurso...  \n",
       "..                                                 ...  \n",
       "240                                                NaN  \n",
       "241  Con el objetivo de disponer de mayores recurso...  \n",
       "242  Por Decreto 246/AJG/2020 y Resolución 3.513/MH...  \n",
       "243  Con el objetivo de disponer de mayores recurso...  \n",
       "244                                                NaN  \n",
       "\n",
       "[245 rows x 9 columns]"
      ]
     },
     "execution_count": 212,
     "metadata": {},
     "output_type": "execute_result"
    }
   ],
   "source": [
    "df2020"
   ]
  },
  {
   "cell_type": "markdown",
   "metadata": {},
   "source": [
    "**Usando `shape`, `info` y `describe` podemos ver las dimensiones del df y sus caracteristicas**"
   ]
  },
  {
   "cell_type": "code",
   "execution_count": 213,
   "metadata": {},
   "outputs": [
    {
     "data": {
      "text/plain": [
       "(245, 9)"
      ]
     },
     "execution_count": 213,
     "metadata": {},
     "output_type": "execute_result"
    }
   ],
   "source": [
    "df2020.shape"
   ]
  },
  {
   "cell_type": "code",
   "execution_count": 214,
   "metadata": {},
   "outputs": [
    {
     "name": "stdout",
     "output_type": "stream",
     "text": [
      "<class 'pandas.core.frame.DataFrame'>\n",
      "RangeIndex: 245 entries, 0 to 244\n",
      "Data columns (total 9 columns):\n",
      " #   Column                          Non-Null Count  Dtype \n",
      "---  ------                          --------------  ----- \n",
      " 0   CUIL                            245 non-null    object\n",
      " 1   AÑO                             245 non-null    int64 \n",
      " 2   MES                             245 non-null    int64 \n",
      " 3   APELLIDO_Y_NOMBRE               245 non-null    object\n",
      " 4   REPARTICION                     245 non-null    object\n",
      " 5   ASIGNACIÓN POR CARGO\n",
      "(I)        245 non-null    object\n",
      " 6   AGUINALDO\n",
      "(II)                  245 non-null    object\n",
      " 7   TOTAL SALARIO BRUTO\n",
      "(I) + (II)  245 non-null    object\n",
      " 8   OBSERVACIONES                   90 non-null     object\n",
      "dtypes: int64(2), object(7)\n",
      "memory usage: 17.4+ KB\n"
     ]
    }
   ],
   "source": [
    "df2020.info()"
   ]
  },
  {
   "cell_type": "code",
   "execution_count": 215,
   "metadata": {},
   "outputs": [
    {
     "data": {
      "text/html": [
       "<div>\n",
       "<style scoped>\n",
       "    .dataframe tbody tr th:only-of-type {\n",
       "        vertical-align: middle;\n",
       "    }\n",
       "\n",
       "    .dataframe tbody tr th {\n",
       "        vertical-align: top;\n",
       "    }\n",
       "\n",
       "    .dataframe thead th {\n",
       "        text-align: right;\n",
       "    }\n",
       "</style>\n",
       "<table border=\"1\" class=\"dataframe\">\n",
       "  <thead>\n",
       "    <tr style=\"text-align: right;\">\n",
       "      <th></th>\n",
       "      <th>AÑO</th>\n",
       "      <th>MES</th>\n",
       "    </tr>\n",
       "  </thead>\n",
       "  <tbody>\n",
       "    <tr>\n",
       "      <th>count</th>\n",
       "      <td>245.0</td>\n",
       "      <td>245.000000</td>\n",
       "    </tr>\n",
       "    <tr>\n",
       "      <th>mean</th>\n",
       "      <td>2020.0</td>\n",
       "      <td>4.465306</td>\n",
       "    </tr>\n",
       "    <tr>\n",
       "      <th>std</th>\n",
       "      <td>0.0</td>\n",
       "      <td>2.291248</td>\n",
       "    </tr>\n",
       "    <tr>\n",
       "      <th>min</th>\n",
       "      <td>2020.0</td>\n",
       "      <td>1.000000</td>\n",
       "    </tr>\n",
       "    <tr>\n",
       "      <th>25%</th>\n",
       "      <td>2020.0</td>\n",
       "      <td>2.000000</td>\n",
       "    </tr>\n",
       "    <tr>\n",
       "      <th>50%</th>\n",
       "      <td>2020.0</td>\n",
       "      <td>4.000000</td>\n",
       "    </tr>\n",
       "    <tr>\n",
       "      <th>75%</th>\n",
       "      <td>2020.0</td>\n",
       "      <td>6.000000</td>\n",
       "    </tr>\n",
       "    <tr>\n",
       "      <th>max</th>\n",
       "      <td>2020.0</td>\n",
       "      <td>8.000000</td>\n",
       "    </tr>\n",
       "  </tbody>\n",
       "</table>\n",
       "</div>"
      ],
      "text/plain": [
       "          AÑO         MES\n",
       "count   245.0  245.000000\n",
       "mean   2020.0    4.465306\n",
       "std       0.0    2.291248\n",
       "min    2020.0    1.000000\n",
       "25%    2020.0    2.000000\n",
       "50%    2020.0    4.000000\n",
       "75%    2020.0    6.000000\n",
       "max    2020.0    8.000000"
      ]
     },
     "execution_count": 215,
     "metadata": {},
     "output_type": "execute_result"
    }
   ],
   "source": [
    "df2020.describe()"
   ]
  },
  {
   "cell_type": "markdown",
   "metadata": {},
   "source": [
    "**Ahora hacemos lo mismo con el segundo df**"
   ]
  },
  {
   "cell_type": "code",
   "execution_count": 216,
   "metadata": {},
   "outputs": [
    {
     "data": {
      "text/html": [
       "<div>\n",
       "<style scoped>\n",
       "    .dataframe tbody tr th:only-of-type {\n",
       "        vertical-align: middle;\n",
       "    }\n",
       "\n",
       "    .dataframe tbody tr th {\n",
       "        vertical-align: top;\n",
       "    }\n",
       "\n",
       "    .dataframe thead th {\n",
       "        text-align: right;\n",
       "    }\n",
       "</style>\n",
       "<table border=\"1\" class=\"dataframe\">\n",
       "  <thead>\n",
       "    <tr style=\"text-align: right;\">\n",
       "      <th></th>\n",
       "      <th>AÑO</th>\n",
       "      <th>N</th>\n",
       "      <th>MES</th>\n",
       "      <th>APELLIDO</th>\n",
       "      <th>NOMBRES</th>\n",
       "      <th>CARGO</th>\n",
       "      <th>ASIG_MENSUALES</th>\n",
       "      <th>SALARIO_FAMILIAR</th>\n",
       "      <th>DESCUENTOS_MENSUALES</th>\n",
       "      <th>LIQUIDO</th>\n",
       "    </tr>\n",
       "  </thead>\n",
       "  <tbody>\n",
       "    <tr>\n",
       "      <th>161</th>\n",
       "      <td>2015</td>\n",
       "      <td>7</td>\n",
       "      <td>JULIO</td>\n",
       "      <td>RODRIGUEZ LARRETA</td>\n",
       "      <td>HORACIO ANTONIO</td>\n",
       "      <td>JEFE DE GABINETE DE MINISTROS</td>\n",
       "      <td>78976,2</td>\n",
       "      <td>0,0</td>\n",
       "      <td>49262,1</td>\n",
       "      <td>-29714,1</td>\n",
       "    </tr>\n",
       "    <tr>\n",
       "      <th>176</th>\n",
       "      <td>2015</td>\n",
       "      <td>8</td>\n",
       "      <td>AGOSTO</td>\n",
       "      <td>CHAIN</td>\n",
       "      <td>DANIEL GUSTAVO</td>\n",
       "      <td>MINISTRO DE DESARROLLO URBANO</td>\n",
       "      <td>78976,2</td>\n",
       "      <td>100,0</td>\n",
       "      <td>-34681,6</td>\n",
       "      <td>44394,6</td>\n",
       "    </tr>\n",
       "    <tr>\n",
       "      <th>221</th>\n",
       "      <td>2015</td>\n",
       "      <td>10</td>\n",
       "      <td>OCTUBRE</td>\n",
       "      <td>CLUSELLAS</td>\n",
       "      <td>PABLO</td>\n",
       "      <td>SECRETARIO LEGAL Y TECNICO</td>\n",
       "      <td>87782,2</td>\n",
       "      <td>0,0</td>\n",
       "      <td>-33979,0</td>\n",
       "      <td>53803,2</td>\n",
       "    </tr>\n",
       "    <tr>\n",
       "      <th>178</th>\n",
       "      <td>2015</td>\n",
       "      <td>8</td>\n",
       "      <td>AGOSTO</td>\n",
       "      <td>DE GODOY</td>\n",
       "      <td>MIGUEL ANGEL</td>\n",
       "      <td>SECRETARIO DE MEDIOS</td>\n",
       "      <td>75027,4</td>\n",
       "      <td>0,0</td>\n",
       "      <td>-33153,8</td>\n",
       "      <td>41873,5</td>\n",
       "    </tr>\n",
       "    <tr>\n",
       "      <th>155</th>\n",
       "      <td>2015</td>\n",
       "      <td>7</td>\n",
       "      <td>JULIO</td>\n",
       "      <td>MONZO</td>\n",
       "      <td>EMILIO</td>\n",
       "      <td>MINISTRO DE GOBIERNO</td>\n",
       "      <td>78976,2</td>\n",
       "      <td>1460,0</td>\n",
       "      <td>50585,3</td>\n",
       "      <td>-29850,9</td>\n",
       "    </tr>\n",
       "  </tbody>\n",
       "</table>\n",
       "</div>"
      ],
      "text/plain": [
       "      AÑO   N      MES           APELLIDO          NOMBRES  \\\n",
       "161  2015   7    JULIO  RODRIGUEZ LARRETA  HORACIO ANTONIO   \n",
       "176  2015   8   AGOSTO              CHAIN   DANIEL GUSTAVO   \n",
       "221  2015  10  OCTUBRE          CLUSELLAS            PABLO   \n",
       "178  2015   8   AGOSTO           DE GODOY     MIGUEL ANGEL   \n",
       "155  2015   7    JULIO              MONZO           EMILIO   \n",
       "\n",
       "                             CARGO ASIG_MENSUALES SALARIO_FAMILIAR  \\\n",
       "161  JEFE DE GABINETE DE MINISTROS        78976,2              0,0   \n",
       "176  MINISTRO DE DESARROLLO URBANO        78976,2            100,0   \n",
       "221     SECRETARIO LEGAL Y TECNICO        87782,2              0,0   \n",
       "178           SECRETARIO DE MEDIOS        75027,4              0,0   \n",
       "155           MINISTRO DE GOBIERNO        78976,2           1460,0   \n",
       "\n",
       "    DESCUENTOS_MENSUALES   LIQUIDO  \n",
       "161              49262,1  -29714,1  \n",
       "176             -34681,6   44394,6  \n",
       "221             -33979,0   53803,2  \n",
       "178             -33153,8   41873,5  \n",
       "155              50585,3  -29850,9  "
      ]
     },
     "execution_count": 216,
     "metadata": {},
     "output_type": "execute_result"
    }
   ],
   "source": [
    "df2015.sample(5)"
   ]
  },
  {
   "cell_type": "code",
   "execution_count": 217,
   "metadata": {},
   "outputs": [
    {
     "name": "stdout",
     "output_type": "stream",
     "text": [
      "<class 'pandas.core.frame.DataFrame'>\n",
      "RangeIndex: 283 entries, 0 to 282\n",
      "Data columns (total 10 columns):\n",
      " #   Column                Non-Null Count  Dtype \n",
      "---  ------                --------------  ----- \n",
      " 0   AÑO                   283 non-null    int64 \n",
      " 1   N                     283 non-null    int64 \n",
      " 2   MES                   283 non-null    object\n",
      " 3   APELLIDO              247 non-null    object\n",
      " 4   NOMBRES               247 non-null    object\n",
      " 5   CARGO                 283 non-null    object\n",
      " 6   ASIG_MENSUALES        283 non-null    object\n",
      " 7   SALARIO_FAMILIAR      283 non-null    object\n",
      " 8   DESCUENTOS_MENSUALES  283 non-null    object\n",
      " 9   LIQUIDO               283 non-null    object\n",
      "dtypes: int64(2), object(8)\n",
      "memory usage: 22.2+ KB\n"
     ]
    }
   ],
   "source": [
    "df2015.info()"
   ]
  },
  {
   "cell_type": "markdown",
   "metadata": {},
   "source": [
    "___\n",
    "## ***3. Limpieza de datos***\n",
    "Ahora que vimos como estan presentados los datos en cada dataframe, vamos a preparlos para poder hacer nuestro analisis. \n",
    "Parte del analisis va a ser una comparacion entre los dataframes, para facilitarlo ambos df deberian tener las mismas columnas con el mismo tipo de dato. \n",
    "- Eliminar MES en df2015\n",
    "- Renombrar N como MES en df2015\n",
    "- Renombrar ASIGNACION POR CARGO y ASIG_MENSUALES a SALARIO en ambos df\n",
    "- Dividir APELLIDO_Y_NOMBRE en columnas APELLIDO y NOMBRES en df2020\n",
    "- Renombrar REPARTICION como CARGO en df2020\n",
    "- Eliminar columnas AGUINALDO, TOTAL SALARIO BRUTO y OBSERVACIONES en df2020\n",
    "- Eliminar columnas SALARIO_FAMILIAR, DESCUENTOS_MENSUALES, LIQUIDO en df2015"
   ]
  },
  {
   "cell_type": "markdown",
   "metadata": {},
   "source": [
    "**Dividamos APELLIDO_Y_NOMBRE en dos columnas**\n",
    "\n",
    "Con el metodo `split` de el tipo de dato `str` podemos dividir un string en dos definiendo un separador"
   ]
  },
  {
   "cell_type": "code",
   "execution_count": 218,
   "metadata": {},
   "outputs": [],
   "source": [
    "df2020[['APELLIDO','NOMBRES']] = df2020['APELLIDO_Y_NOMBRE'].str.split(',', expand=True)"
   ]
  },
  {
   "cell_type": "code",
   "execution_count": 219,
   "metadata": {},
   "outputs": [
    {
     "data": {
      "text/html": [
       "<div>\n",
       "<style scoped>\n",
       "    .dataframe tbody tr th:only-of-type {\n",
       "        vertical-align: middle;\n",
       "    }\n",
       "\n",
       "    .dataframe tbody tr th {\n",
       "        vertical-align: top;\n",
       "    }\n",
       "\n",
       "    .dataframe thead th {\n",
       "        text-align: right;\n",
       "    }\n",
       "</style>\n",
       "<table border=\"1\" class=\"dataframe\">\n",
       "  <thead>\n",
       "    <tr style=\"text-align: right;\">\n",
       "      <th></th>\n",
       "      <th>CUIL</th>\n",
       "      <th>AÑO</th>\n",
       "      <th>MES</th>\n",
       "      <th>APELLIDO_Y_NOMBRE</th>\n",
       "      <th>REPARTICION</th>\n",
       "      <th>ASIGNACIÓN POR CARGO\\n(I)</th>\n",
       "      <th>AGUINALDO\\n(II)</th>\n",
       "      <th>TOTAL SALARIO BRUTO\\n(I) + (II)</th>\n",
       "      <th>OBSERVACIONES</th>\n",
       "      <th>APELLIDO</th>\n",
       "      <th>NOMBRES</th>\n",
       "    </tr>\n",
       "  </thead>\n",
       "  <tbody>\n",
       "    <tr>\n",
       "      <th>2</th>\n",
       "      <td>20-17692128-6</td>\n",
       "      <td>2020</td>\n",
       "      <td>3</td>\n",
       "      <td>RODRIGUEZ LARRETA, HORACIO ANTONIO</td>\n",
       "      <td>Jefe de Gobierno</td>\n",
       "      <td>$245,812</td>\n",
       "      <td>$0</td>\n",
       "      <td>$245,812</td>\n",
       "      <td>NaN</td>\n",
       "      <td>RODRIGUEZ LARRETA</td>\n",
       "      <td>HORACIO ANTONIO</td>\n",
       "    </tr>\n",
       "    <tr>\n",
       "      <th>212</th>\n",
       "      <td>20-26932366-4</td>\n",
       "      <td>2020</td>\n",
       "      <td>8</td>\n",
       "      <td>GARCIA RESTA, ALVARO</td>\n",
       "      <td>SECR Desarrollo Urbano</td>\n",
       "      <td>$283,458</td>\n",
       "      <td>$141,729</td>\n",
       "      <td>$425,187</td>\n",
       "      <td>NaN</td>\n",
       "      <td>GARCIA RESTA</td>\n",
       "      <td>ALVARO</td>\n",
       "    </tr>\n",
       "    <tr>\n",
       "      <th>228</th>\n",
       "      <td>20-30593774-7</td>\n",
       "      <td>2020</td>\n",
       "      <td>8</td>\n",
       "      <td>AVELLANEDA, PATRICIO IGNACIO</td>\n",
       "      <td>SECR Planificación, Evaluación y Coordinación ...</td>\n",
       "      <td>$283,458</td>\n",
       "      <td>$141,729</td>\n",
       "      <td>$425,187</td>\n",
       "      <td>NaN</td>\n",
       "      <td>AVELLANEDA</td>\n",
       "      <td>PATRICIO IGNACIO</td>\n",
       "    </tr>\n",
       "  </tbody>\n",
       "</table>\n",
       "</div>"
      ],
      "text/plain": [
       "              CUIL   AÑO  MES                   APELLIDO_Y_NOMBRE  \\\n",
       "2    20-17692128-6  2020    3  RODRIGUEZ LARRETA, HORACIO ANTONIO   \n",
       "212  20-26932366-4  2020    8                GARCIA RESTA, ALVARO   \n",
       "228  20-30593774-7  2020    8        AVELLANEDA, PATRICIO IGNACIO   \n",
       "\n",
       "                                           REPARTICION  \\\n",
       "2                                     Jefe de Gobierno   \n",
       "212                             SECR Desarrollo Urbano   \n",
       "228  SECR Planificación, Evaluación y Coordinación ...   \n",
       "\n",
       "    ASIGNACIÓN POR CARGO\\n(I) AGUINALDO\\n(II) TOTAL SALARIO BRUTO\\n(I) + (II)  \\\n",
       "2                    $245,812              $0                        $245,812   \n",
       "212                  $283,458        $141,729                        $425,187   \n",
       "228                  $283,458        $141,729                        $425,187   \n",
       "\n",
       "    OBSERVACIONES           APELLIDO            NOMBRES  \n",
       "2             NaN  RODRIGUEZ LARRETA    HORACIO ANTONIO  \n",
       "212           NaN       GARCIA RESTA             ALVARO  \n",
       "228           NaN         AVELLANEDA   PATRICIO IGNACIO  "
      ]
     },
     "execution_count": 219,
     "metadata": {},
     "output_type": "execute_result"
    }
   ],
   "source": [
    "#Revisemos como quedo\n",
    "df2020.sample(3)"
   ]
  },
  {
   "cell_type": "markdown",
   "metadata": {},
   "source": [
    "**Eliminemos columnas que no vamos a usar**\n",
    "\n",
    "Con el metrodo `drop` podemos eliminar columnas de un df. \n",
    "\n",
    "Podemos definir una lista para eliminar varias columnas a la vez. "
   ]
  },
  {
   "cell_type": "code",
   "execution_count": 220,
   "metadata": {},
   "outputs": [],
   "source": [
    "eliminar = ['MES', 'SALARIO_FAMILIAR', 'DESCUENTOS_MENSUALES', 'LIQUIDO']"
   ]
  },
  {
   "cell_type": "code",
   "execution_count": 221,
   "metadata": {},
   "outputs": [],
   "source": [
    "df2015 = df2015.drop(eliminar, axis=1)"
   ]
  },
  {
   "cell_type": "code",
   "execution_count": 222,
   "metadata": {},
   "outputs": [
    {
     "data": {
      "text/html": [
       "<div>\n",
       "<style scoped>\n",
       "    .dataframe tbody tr th:only-of-type {\n",
       "        vertical-align: middle;\n",
       "    }\n",
       "\n",
       "    .dataframe tbody tr th {\n",
       "        vertical-align: top;\n",
       "    }\n",
       "\n",
       "    .dataframe thead th {\n",
       "        text-align: right;\n",
       "    }\n",
       "</style>\n",
       "<table border=\"1\" class=\"dataframe\">\n",
       "  <thead>\n",
       "    <tr style=\"text-align: right;\">\n",
       "      <th></th>\n",
       "      <th>AÑO</th>\n",
       "      <th>N</th>\n",
       "      <th>APELLIDO</th>\n",
       "      <th>NOMBRES</th>\n",
       "      <th>CARGO</th>\n",
       "      <th>ASIG_MENSUALES</th>\n",
       "    </tr>\n",
       "  </thead>\n",
       "  <tbody>\n",
       "    <tr>\n",
       "      <th>223</th>\n",
       "      <td>2015</td>\n",
       "      <td>10</td>\n",
       "      <td>GAYTAN</td>\n",
       "      <td>FACUNDO AMADO</td>\n",
       "      <td>SECRETARIO DE COMUNICACION SOCIAL</td>\n",
       "      <td>87782,2</td>\n",
       "    </tr>\n",
       "    <tr>\n",
       "      <th>26</th>\n",
       "      <td>2015</td>\n",
       "      <td>2</td>\n",
       "      <td>CLUSELLAS</td>\n",
       "      <td>PABLO</td>\n",
       "      <td>SECRETARIO LEGAL Y TECNICO</td>\n",
       "      <td>65241,4</td>\n",
       "    </tr>\n",
       "    <tr>\n",
       "      <th>218</th>\n",
       "      <td>2015</td>\n",
       "      <td>10</td>\n",
       "      <td>CABRERA</td>\n",
       "      <td>FRANCISCO ADOLFO</td>\n",
       "      <td>MINISTRO DE DESARROLLO ECONOMICO</td>\n",
       "      <td>92402,3</td>\n",
       "    </tr>\n",
       "  </tbody>\n",
       "</table>\n",
       "</div>"
      ],
      "text/plain": [
       "      AÑO   N   APELLIDO           NOMBRES                              CARGO  \\\n",
       "223  2015  10     GAYTAN     FACUNDO AMADO  SECRETARIO DE COMUNICACION SOCIAL   \n",
       "26   2015   2  CLUSELLAS             PABLO         SECRETARIO LEGAL Y TECNICO   \n",
       "218  2015  10    CABRERA  FRANCISCO ADOLFO   MINISTRO DE DESARROLLO ECONOMICO   \n",
       "\n",
       "    ASIG_MENSUALES  \n",
       "223        87782,2  \n",
       "26         65241,4  \n",
       "218        92402,3  "
      ]
     },
     "execution_count": 222,
     "metadata": {},
     "output_type": "execute_result"
    }
   ],
   "source": [
    "df2015.sample(3)"
   ]
  },
  {
   "cell_type": "code",
   "execution_count": 223,
   "metadata": {},
   "outputs": [],
   "source": [
    "eliminar = ['AGUINALDO\\n(II)', 'TOTAL SALARIO BRUTO\\n(I) + (II)', 'OBSERVACIONES','APELLIDO_Y_NOMBRE']"
   ]
  },
  {
   "cell_type": "code",
   "execution_count": 224,
   "metadata": {},
   "outputs": [],
   "source": [
    "df2020 = df2020.drop(eliminar, axis=1)"
   ]
  },
  {
   "cell_type": "code",
   "execution_count": 225,
   "metadata": {},
   "outputs": [
    {
     "data": {
      "text/html": [
       "<div>\n",
       "<style scoped>\n",
       "    .dataframe tbody tr th:only-of-type {\n",
       "        vertical-align: middle;\n",
       "    }\n",
       "\n",
       "    .dataframe tbody tr th {\n",
       "        vertical-align: top;\n",
       "    }\n",
       "\n",
       "    .dataframe thead th {\n",
       "        text-align: right;\n",
       "    }\n",
       "</style>\n",
       "<table border=\"1\" class=\"dataframe\">\n",
       "  <thead>\n",
       "    <tr style=\"text-align: right;\">\n",
       "      <th></th>\n",
       "      <th>CUIL</th>\n",
       "      <th>AÑO</th>\n",
       "      <th>MES</th>\n",
       "      <th>REPARTICION</th>\n",
       "      <th>ASIGNACIÓN POR CARGO\\n(I)</th>\n",
       "      <th>APELLIDO</th>\n",
       "      <th>NOMBRES</th>\n",
       "    </tr>\n",
       "  </thead>\n",
       "  <tbody>\n",
       "    <tr>\n",
       "      <th>115</th>\n",
       "      <td>20-23864572-8</td>\n",
       "      <td>2020</td>\n",
       "      <td>4</td>\n",
       "      <td>SECR General y Relaciones Internacionales</td>\n",
       "      <td>$311,939</td>\n",
       "      <td>STRAFACE</td>\n",
       "      <td>FERNANDO DIEGO</td>\n",
       "    </tr>\n",
       "    <tr>\n",
       "      <th>207</th>\n",
       "      <td>20-26932366-4</td>\n",
       "      <td>2020</td>\n",
       "      <td>3</td>\n",
       "      <td>SECR Desarrollo Urbano</td>\n",
       "      <td>$283,458</td>\n",
       "      <td>GARCIA RESTA</td>\n",
       "      <td>ALVARO</td>\n",
       "    </tr>\n",
       "    <tr>\n",
       "      <th>121</th>\n",
       "      <td>20-24424714-9</td>\n",
       "      <td>2020</td>\n",
       "      <td>2</td>\n",
       "      <td>SECR Justicia y Seguridad</td>\n",
       "      <td>$303,802</td>\n",
       "      <td>D'ALESSANDRO</td>\n",
       "      <td>MARCELO SILVIO</td>\n",
       "    </tr>\n",
       "  </tbody>\n",
       "</table>\n",
       "</div>"
      ],
      "text/plain": [
       "              CUIL   AÑO  MES                                REPARTICION  \\\n",
       "115  20-23864572-8  2020    4  SECR General y Relaciones Internacionales   \n",
       "207  20-26932366-4  2020    3                     SECR Desarrollo Urbano   \n",
       "121  20-24424714-9  2020    2                  SECR Justicia y Seguridad   \n",
       "\n",
       "    ASIGNACIÓN POR CARGO\\n(I)      APELLIDO          NOMBRES  \n",
       "115                  $311,939      STRAFACE   FERNANDO DIEGO  \n",
       "207                  $283,458  GARCIA RESTA           ALVARO  \n",
       "121                  $303,802  D'ALESSANDRO   MARCELO SILVIO  "
      ]
     },
     "execution_count": 225,
     "metadata": {},
     "output_type": "execute_result"
    }
   ],
   "source": [
    "df2020.sample(3)"
   ]
  },
  {
   "cell_type": "markdown",
   "metadata": {},
   "source": [
    "**Renombremos las columnas que son equivalentes**\n",
    "\n",
    "Con el metodo `rename` podemos renombrar columnas, asignado al viejo valor uno nuevo en un diccionario. "
   ]
  },
  {
   "cell_type": "code",
   "execution_count": 226,
   "metadata": {},
   "outputs": [],
   "source": [
    "df2015.rename(columns={'N' : 'MES', 'ASIG_MENSUALES' : 'SALARIO'}, inplace=True)"
   ]
  },
  {
   "cell_type": "code",
   "execution_count": 227,
   "metadata": {},
   "outputs": [
    {
     "data": {
      "text/html": [
       "<div>\n",
       "<style scoped>\n",
       "    .dataframe tbody tr th:only-of-type {\n",
       "        vertical-align: middle;\n",
       "    }\n",
       "\n",
       "    .dataframe tbody tr th {\n",
       "        vertical-align: top;\n",
       "    }\n",
       "\n",
       "    .dataframe thead th {\n",
       "        text-align: right;\n",
       "    }\n",
       "</style>\n",
       "<table border=\"1\" class=\"dataframe\">\n",
       "  <thead>\n",
       "    <tr style=\"text-align: right;\">\n",
       "      <th></th>\n",
       "      <th>AÑO</th>\n",
       "      <th>MES</th>\n",
       "      <th>APELLIDO</th>\n",
       "      <th>NOMBRES</th>\n",
       "      <th>CARGO</th>\n",
       "      <th>SALARIO</th>\n",
       "    </tr>\n",
       "  </thead>\n",
       "  <tbody>\n",
       "    <tr>\n",
       "      <th>6</th>\n",
       "      <td>2015</td>\n",
       "      <td>1</td>\n",
       "      <td>GAYTAN</td>\n",
       "      <td>FACUNDO AMADO</td>\n",
       "      <td>SECRETARIO DE COMUNICACION SOCIAL</td>\n",
       "      <td>65241,4</td>\n",
       "    </tr>\n",
       "    <tr>\n",
       "      <th>207</th>\n",
       "      <td>2015</td>\n",
       "      <td>9</td>\n",
       "      <td>MONTENEGRO</td>\n",
       "      <td>GUILLERMO TRISTAN</td>\n",
       "      <td>MINISTRO DE JUSTICIA Y SEGURIDAD</td>\n",
       "      <td>92402,3</td>\n",
       "    </tr>\n",
       "    <tr>\n",
       "      <th>127</th>\n",
       "      <td>2015</td>\n",
       "      <td>6</td>\n",
       "      <td>STANLEY</td>\n",
       "      <td>CAROLINA</td>\n",
       "      <td>MINISTRA DE DESARROLLO SOCIAL</td>\n",
       "      <td>118464,2</td>\n",
       "    </tr>\n",
       "  </tbody>\n",
       "</table>\n",
       "</div>"
      ],
      "text/plain": [
       "      AÑO  MES    APELLIDO            NOMBRES  \\\n",
       "6    2015    1      GAYTAN      FACUNDO AMADO   \n",
       "207  2015    9  MONTENEGRO  GUILLERMO TRISTAN   \n",
       "127  2015    6     STANLEY           CAROLINA   \n",
       "\n",
       "                                 CARGO   SALARIO  \n",
       "6    SECRETARIO DE COMUNICACION SOCIAL   65241,4  \n",
       "207   MINISTRO DE JUSTICIA Y SEGURIDAD   92402,3  \n",
       "127      MINISTRA DE DESARROLLO SOCIAL  118464,2  "
      ]
     },
     "execution_count": 227,
     "metadata": {},
     "output_type": "execute_result"
    }
   ],
   "source": [
    "df2015.sample(3)"
   ]
  },
  {
   "cell_type": "code",
   "execution_count": 228,
   "metadata": {},
   "outputs": [],
   "source": [
    "df2020.rename(columns={'REPARTICION' : 'CARGO', 'ASIGNACIÓN POR CARGO\\n(I)' : 'SALARIO'}, inplace=True)\n"
   ]
  },
  {
   "cell_type": "code",
   "execution_count": 229,
   "metadata": {},
   "outputs": [
    {
     "data": {
      "text/html": [
       "<div>\n",
       "<style scoped>\n",
       "    .dataframe tbody tr th:only-of-type {\n",
       "        vertical-align: middle;\n",
       "    }\n",
       "\n",
       "    .dataframe tbody tr th {\n",
       "        vertical-align: top;\n",
       "    }\n",
       "\n",
       "    .dataframe thead th {\n",
       "        text-align: right;\n",
       "    }\n",
       "</style>\n",
       "<table border=\"1\" class=\"dataframe\">\n",
       "  <thead>\n",
       "    <tr style=\"text-align: right;\">\n",
       "      <th></th>\n",
       "      <th>CUIL</th>\n",
       "      <th>AÑO</th>\n",
       "      <th>MES</th>\n",
       "      <th>CARGO</th>\n",
       "      <th>SALARIO</th>\n",
       "      <th>APELLIDO</th>\n",
       "      <th>NOMBRES</th>\n",
       "    </tr>\n",
       "  </thead>\n",
       "  <tbody>\n",
       "    <tr>\n",
       "      <th>137</th>\n",
       "      <td>20-31164337-2</td>\n",
       "      <td>2020</td>\n",
       "      <td>2</td>\n",
       "      <td>SECR Comunicación, Contenidos y Participación ...</td>\n",
       "      <td>$303,802</td>\n",
       "      <td>DI BENEDETTO</td>\n",
       "      <td>FEDERICO</td>\n",
       "    </tr>\n",
       "    <tr>\n",
       "      <th>97</th>\n",
       "      <td>27-31925246-6</td>\n",
       "      <td>2020</td>\n",
       "      <td>2</td>\n",
       "      <td>Ministerio de Desarrollo Humano y Hábitat</td>\n",
       "      <td>$311,939</td>\n",
       "      <td>MIGLIORE</td>\n",
       "      <td>MARIA</td>\n",
       "    </tr>\n",
       "    <tr>\n",
       "      <th>71</th>\n",
       "      <td>20-25641207-2</td>\n",
       "      <td>2020</td>\n",
       "      <td>8</td>\n",
       "      <td>Ministerio de Cultura</td>\n",
       "      <td>$311,939</td>\n",
       "      <td>AVOGADRO</td>\n",
       "      <td>ENRIQUE LUIS</td>\n",
       "    </tr>\n",
       "  </tbody>\n",
       "</table>\n",
       "</div>"
      ],
      "text/plain": [
       "              CUIL   AÑO  MES  \\\n",
       "137  20-31164337-2  2020    2   \n",
       "97   27-31925246-6  2020    2   \n",
       "71   20-25641207-2  2020    8   \n",
       "\n",
       "                                                 CARGO   SALARIO  \\\n",
       "137  SECR Comunicación, Contenidos y Participación ...  $303,802   \n",
       "97           Ministerio de Desarrollo Humano y Hábitat  $311,939   \n",
       "71                               Ministerio de Cultura  $311,939   \n",
       "\n",
       "         APELLIDO        NOMBRES  \n",
       "137  DI BENEDETTO       FEDERICO  \n",
       "97       MIGLIORE          MARIA  \n",
       "71       AVOGADRO   ENRIQUE LUIS  "
      ]
     },
     "execution_count": 229,
     "metadata": {},
     "output_type": "execute_result"
    }
   ],
   "source": [
    "df2020.sample(3)"
   ]
  },
  {
   "cell_type": "code",
   "execution_count": 230,
   "metadata": {},
   "outputs": [
    {
     "name": "stdout",
     "output_type": "stream",
     "text": [
      "<class 'pandas.core.frame.DataFrame'>\n",
      "RangeIndex: 245 entries, 0 to 244\n",
      "Data columns (total 7 columns):\n",
      " #   Column    Non-Null Count  Dtype \n",
      "---  ------    --------------  ----- \n",
      " 0   CUIL      245 non-null    object\n",
      " 1   AÑO       245 non-null    int64 \n",
      " 2   MES       245 non-null    int64 \n",
      " 3   CARGO     245 non-null    object\n",
      " 4   SALARIO   245 non-null    object\n",
      " 5   APELLIDO  245 non-null    object\n",
      " 6   NOMBRES   245 non-null    object\n",
      "dtypes: int64(2), object(5)\n",
      "memory usage: 13.5+ KB\n"
     ]
    }
   ],
   "source": [
    "df2020.info()"
   ]
  },
  {
   "cell_type": "code",
   "execution_count": 231,
   "metadata": {},
   "outputs": [
    {
     "name": "stdout",
     "output_type": "stream",
     "text": [
      "<class 'pandas.core.frame.DataFrame'>\n",
      "RangeIndex: 283 entries, 0 to 282\n",
      "Data columns (total 6 columns):\n",
      " #   Column    Non-Null Count  Dtype \n",
      "---  ------    --------------  ----- \n",
      " 0   AÑO       283 non-null    int64 \n",
      " 1   MES       283 non-null    int64 \n",
      " 2   APELLIDO  247 non-null    object\n",
      " 3   NOMBRES   247 non-null    object\n",
      " 4   CARGO     283 non-null    object\n",
      " 5   SALARIO   283 non-null    object\n",
      "dtypes: int64(2), object(4)\n",
      "memory usage: 13.4+ KB\n"
     ]
    }
   ],
   "source": [
    "df2015.info()"
   ]
  },
  {
   "cell_type": "markdown",
   "metadata": {},
   "source": [
    "Vemos que el salario en ambos dataframes deberia ser un numero, pero Python no lo reconoce como tal.  \n",
    "En df2020 el salario tiene un simbolo **$** y un separador de miles **,**.\n",
    "Con el metodo `replace` podemos quitarlo y convertirlo a tipo de dato float (numero real)"
   ]
  },
  {
   "cell_type": "code",
   "execution_count": 232,
   "metadata": {},
   "outputs": [
    {
     "name": "stderr",
     "output_type": "stream",
     "text": [
      "/home/vic/anaconda3/lib/python3.7/site-packages/ipykernel_launcher.py:1: FutureWarning: The default value of regex will change from True to False in a future version.\n",
      "  \"\"\"Entry point for launching an IPython kernel.\n"
     ]
    }
   ],
   "source": [
    "df2020['SALARIO'] = df2020['SALARIO'].str.replace('[$,]', '').astype(float)"
   ]
  },
  {
   "cell_type": "code",
   "execution_count": 233,
   "metadata": {},
   "outputs": [
    {
     "data": {
      "text/html": [
       "<div>\n",
       "<style scoped>\n",
       "    .dataframe tbody tr th:only-of-type {\n",
       "        vertical-align: middle;\n",
       "    }\n",
       "\n",
       "    .dataframe tbody tr th {\n",
       "        vertical-align: top;\n",
       "    }\n",
       "\n",
       "    .dataframe thead th {\n",
       "        text-align: right;\n",
       "    }\n",
       "</style>\n",
       "<table border=\"1\" class=\"dataframe\">\n",
       "  <thead>\n",
       "    <tr style=\"text-align: right;\">\n",
       "      <th></th>\n",
       "      <th>CUIL</th>\n",
       "      <th>AÑO</th>\n",
       "      <th>MES</th>\n",
       "      <th>CARGO</th>\n",
       "      <th>SALARIO</th>\n",
       "      <th>APELLIDO</th>\n",
       "      <th>NOMBRES</th>\n",
       "    </tr>\n",
       "  </thead>\n",
       "  <tbody>\n",
       "    <tr>\n",
       "      <th>59</th>\n",
       "      <td>20-24941711-5</td>\n",
       "      <td>2020</td>\n",
       "      <td>4</td>\n",
       "      <td>Ministerio de Hacienda y Finanzas</td>\n",
       "      <td>311939.0</td>\n",
       "      <td>MURA</td>\n",
       "      <td>MARTIN</td>\n",
       "    </tr>\n",
       "    <tr>\n",
       "      <th>210</th>\n",
       "      <td>20-26932366-4</td>\n",
       "      <td>2020</td>\n",
       "      <td>6</td>\n",
       "      <td>SECR Desarrollo Urbano</td>\n",
       "      <td>283458.0</td>\n",
       "      <td>GARCIA RESTA</td>\n",
       "      <td>ALVARO</td>\n",
       "    </tr>\n",
       "    <tr>\n",
       "      <th>65</th>\n",
       "      <td>20-25641207-2</td>\n",
       "      <td>2020</td>\n",
       "      <td>2</td>\n",
       "      <td>Ministerio de Cultura</td>\n",
       "      <td>311939.0</td>\n",
       "      <td>AVOGADRO</td>\n",
       "      <td>ENRIQUE LUIS</td>\n",
       "    </tr>\n",
       "  </tbody>\n",
       "</table>\n",
       "</div>"
      ],
      "text/plain": [
       "              CUIL   AÑO  MES                              CARGO   SALARIO  \\\n",
       "59   20-24941711-5  2020    4  Ministerio de Hacienda y Finanzas  311939.0   \n",
       "210  20-26932366-4  2020    6             SECR Desarrollo Urbano  283458.0   \n",
       "65   20-25641207-2  2020    2              Ministerio de Cultura  311939.0   \n",
       "\n",
       "         APELLIDO        NOMBRES  \n",
       "59           MURA         MARTIN  \n",
       "210  GARCIA RESTA         ALVARO  \n",
       "65       AVOGADRO   ENRIQUE LUIS  "
      ]
     },
     "execution_count": 233,
     "metadata": {},
     "output_type": "execute_result"
    }
   ],
   "source": [
    "df2020.sample(3)"
   ]
  },
  {
   "cell_type": "markdown",
   "metadata": {},
   "source": [
    "En df2015 el problema esta en el separador de decimales que usa coma en vez de punto. Vamos a reemplazarlo y convertir a tipo de dato float."
   ]
  },
  {
   "cell_type": "code",
   "execution_count": 234,
   "metadata": {},
   "outputs": [],
   "source": [
    "df2015['SALARIO'] = df2015['SALARIO'].str.replace(',', '.').astype(float)"
   ]
  },
  {
   "cell_type": "code",
   "execution_count": 235,
   "metadata": {},
   "outputs": [
    {
     "data": {
      "text/html": [
       "<div>\n",
       "<style scoped>\n",
       "    .dataframe tbody tr th:only-of-type {\n",
       "        vertical-align: middle;\n",
       "    }\n",
       "\n",
       "    .dataframe tbody tr th {\n",
       "        vertical-align: top;\n",
       "    }\n",
       "\n",
       "    .dataframe thead th {\n",
       "        text-align: right;\n",
       "    }\n",
       "</style>\n",
       "<table border=\"1\" class=\"dataframe\">\n",
       "  <thead>\n",
       "    <tr style=\"text-align: right;\">\n",
       "      <th></th>\n",
       "      <th>AÑO</th>\n",
       "      <th>MES</th>\n",
       "      <th>APELLIDO</th>\n",
       "      <th>NOMBRES</th>\n",
       "      <th>CARGO</th>\n",
       "      <th>SALARIO</th>\n",
       "    </tr>\n",
       "  </thead>\n",
       "  <tbody>\n",
       "    <tr>\n",
       "      <th>142</th>\n",
       "      <td>2015</td>\n",
       "      <td>7</td>\n",
       "      <td>GAYTAN</td>\n",
       "      <td>FACUNDO AMADO</td>\n",
       "      <td>SECRETARIO DE COMUNICACION SOCIAL</td>\n",
       "      <td>75027.4</td>\n",
       "    </tr>\n",
       "    <tr>\n",
       "      <th>13</th>\n",
       "      <td>2015</td>\n",
       "      <td>1</td>\n",
       "      <td>MONZO</td>\n",
       "      <td>EMILIO</td>\n",
       "      <td>MINISTRO DE GOBIERNO</td>\n",
       "      <td>68675.1</td>\n",
       "    </tr>\n",
       "    <tr>\n",
       "      <th>279</th>\n",
       "      <td>2015</td>\n",
       "      <td>12</td>\n",
       "      <td>VIDAL</td>\n",
       "      <td>MARIA EUGENIA</td>\n",
       "      <td>VICE JEFA DE GOBIERNO</td>\n",
       "      <td>63345.8</td>\n",
       "    </tr>\n",
       "    <tr>\n",
       "      <th>49</th>\n",
       "      <td>2015</td>\n",
       "      <td>3</td>\n",
       "      <td>DE GODOY</td>\n",
       "      <td>MIGUEL ANGEL</td>\n",
       "      <td>SECRETARIO DE MEDIOS</td>\n",
       "      <td>65241.4</td>\n",
       "    </tr>\n",
       "    <tr>\n",
       "      <th>6</th>\n",
       "      <td>2015</td>\n",
       "      <td>1</td>\n",
       "      <td>GAYTAN</td>\n",
       "      <td>FACUNDO AMADO</td>\n",
       "      <td>SECRETARIO DE COMUNICACION SOCIAL</td>\n",
       "      <td>65241.4</td>\n",
       "    </tr>\n",
       "    <tr>\n",
       "      <th>241</th>\n",
       "      <td>2015</td>\n",
       "      <td>11</td>\n",
       "      <td>CENZON</td>\n",
       "      <td>EDGARDO DAVID</td>\n",
       "      <td>MINISTRO DE AMBIENTE Y ESPACIO PUBLICO</td>\n",
       "      <td>92402.3</td>\n",
       "    </tr>\n",
       "    <tr>\n",
       "      <th>21</th>\n",
       "      <td>2015</td>\n",
       "      <td>1</td>\n",
       "      <td>NaN</td>\n",
       "      <td>NaN</td>\n",
       "      <td>SUBSECRETARIO</td>\n",
       "      <td>54940.1</td>\n",
       "    </tr>\n",
       "    <tr>\n",
       "      <th>183</th>\n",
       "      <td>2015</td>\n",
       "      <td>8</td>\n",
       "      <td>MACCHIAVELLI</td>\n",
       "      <td>EDUARDO ALBERTO</td>\n",
       "      <td>SECRETARIO DE GESTION COMUNAL Y ATENCION CIUDA...</td>\n",
       "      <td>75027.4</td>\n",
       "    </tr>\n",
       "    <tr>\n",
       "      <th>15</th>\n",
       "      <td>2015</td>\n",
       "      <td>1</td>\n",
       "      <td>REYBAUD</td>\n",
       "      <td>GRACIELA MABEL</td>\n",
       "      <td>MINISTRO DE SALUD</td>\n",
       "      <td>68675.1</td>\n",
       "    </tr>\n",
       "    <tr>\n",
       "      <th>212</th>\n",
       "      <td>2015</td>\n",
       "      <td>9</td>\n",
       "      <td>STANLEY</td>\n",
       "      <td>CAROLINA</td>\n",
       "      <td>MINISTRA DE DESARROLLO SOCIAL</td>\n",
       "      <td>92402.3</td>\n",
       "    </tr>\n",
       "  </tbody>\n",
       "</table>\n",
       "</div>"
      ],
      "text/plain": [
       "      AÑO  MES      APELLIDO          NOMBRES  \\\n",
       "142  2015    7        GAYTAN    FACUNDO AMADO   \n",
       "13   2015    1         MONZO           EMILIO   \n",
       "279  2015   12         VIDAL    MARIA EUGENIA   \n",
       "49   2015    3      DE GODOY     MIGUEL ANGEL   \n",
       "6    2015    1        GAYTAN    FACUNDO AMADO   \n",
       "241  2015   11        CENZON    EDGARDO DAVID   \n",
       "21   2015    1           NaN              NaN   \n",
       "183  2015    8  MACCHIAVELLI  EDUARDO ALBERTO   \n",
       "15   2015    1       REYBAUD   GRACIELA MABEL   \n",
       "212  2015    9       STANLEY         CAROLINA   \n",
       "\n",
       "                                                 CARGO  SALARIO  \n",
       "142                  SECRETARIO DE COMUNICACION SOCIAL  75027.4  \n",
       "13                                MINISTRO DE GOBIERNO  68675.1  \n",
       "279                              VICE JEFA DE GOBIERNO  63345.8  \n",
       "49                                SECRETARIO DE MEDIOS  65241.4  \n",
       "6                    SECRETARIO DE COMUNICACION SOCIAL  65241.4  \n",
       "241             MINISTRO DE AMBIENTE Y ESPACIO PUBLICO  92402.3  \n",
       "21                                       SUBSECRETARIO  54940.1  \n",
       "183  SECRETARIO DE GESTION COMUNAL Y ATENCION CIUDA...  75027.4  \n",
       "15                                   MINISTRO DE SALUD  68675.1  \n",
       "212                      MINISTRA DE DESARROLLO SOCIAL  92402.3  "
      ]
     },
     "execution_count": 235,
     "metadata": {},
     "output_type": "execute_result"
    }
   ],
   "source": [
    "df2015.sample(10)"
   ]
  },
  {
   "cell_type": "markdown",
   "metadata": {},
   "source": [
    "Con el metodo `unique` podemos ver obtener los distintos valores que existen en una columna, podemos modificar esa columna antes de aplicarle el metodo. \n",
    "Sabemos que un CUIL que comienza con 20 corresponde a sexo Masculino y 27 a Femenino, vamos a utilizar eso para validar los datos y armar una nueva columna para agregar el sexo del empleado. "
   ]
  },
  {
   "cell_type": "code",
   "execution_count": 236,
   "metadata": {},
   "outputs": [
    {
     "data": {
      "text/plain": [
       "array(['20', '27'], dtype=object)"
      ]
     },
     "execution_count": 236,
     "metadata": {},
     "output_type": "execute_result"
    }
   ],
   "source": [
    "np.unique(df2020['CUIL'].str[:2])"
   ]
  },
  {
   "cell_type": "code",
   "execution_count": 237,
   "metadata": {},
   "outputs": [],
   "source": [
    "df2020['SEXO'] = np.where(df2020['CUIL'].str[:2]== '20', 'Masculino', 'Femenino')"
   ]
  },
  {
   "cell_type": "code",
   "execution_count": 238,
   "metadata": {},
   "outputs": [
    {
     "data": {
      "text/html": [
       "<div>\n",
       "<style scoped>\n",
       "    .dataframe tbody tr th:only-of-type {\n",
       "        vertical-align: middle;\n",
       "    }\n",
       "\n",
       "    .dataframe tbody tr th {\n",
       "        vertical-align: top;\n",
       "    }\n",
       "\n",
       "    .dataframe thead th {\n",
       "        text-align: right;\n",
       "    }\n",
       "</style>\n",
       "<table border=\"1\" class=\"dataframe\">\n",
       "  <thead>\n",
       "    <tr style=\"text-align: right;\">\n",
       "      <th></th>\n",
       "      <th>CUIL</th>\n",
       "      <th>AÑO</th>\n",
       "      <th>MES</th>\n",
       "      <th>CARGO</th>\n",
       "      <th>SALARIO</th>\n",
       "      <th>APELLIDO</th>\n",
       "      <th>NOMBRES</th>\n",
       "      <th>SEXO</th>\n",
       "    </tr>\n",
       "  </thead>\n",
       "  <tbody>\n",
       "    <tr>\n",
       "      <th>65</th>\n",
       "      <td>20-25641207-2</td>\n",
       "      <td>2020</td>\n",
       "      <td>2</td>\n",
       "      <td>Ministerio de Cultura</td>\n",
       "      <td>311939.0</td>\n",
       "      <td>AVOGADRO</td>\n",
       "      <td>ENRIQUE LUIS</td>\n",
       "      <td>Masculino</td>\n",
       "    </tr>\n",
       "    <tr>\n",
       "      <th>123</th>\n",
       "      <td>20-24424714-9</td>\n",
       "      <td>2020</td>\n",
       "      <td>4</td>\n",
       "      <td>SECR Justicia y Seguridad</td>\n",
       "      <td>303802.0</td>\n",
       "      <td>D'ALESSANDRO</td>\n",
       "      <td>MARCELO SILVIO</td>\n",
       "      <td>Masculino</td>\n",
       "    </tr>\n",
       "    <tr>\n",
       "      <th>227</th>\n",
       "      <td>20-30593774-7</td>\n",
       "      <td>2020</td>\n",
       "      <td>7</td>\n",
       "      <td>SECR Planificación, Evaluación y Coordinación ...</td>\n",
       "      <td>283458.0</td>\n",
       "      <td>AVELLANEDA</td>\n",
       "      <td>PATRICIO IGNACIO</td>\n",
       "      <td>Masculino</td>\n",
       "    </tr>\n",
       "    <tr>\n",
       "      <th>171</th>\n",
       "      <td>20-22293622-6</td>\n",
       "      <td>2020</td>\n",
       "      <td>7</td>\n",
       "      <td>SECR Integración Social y Urbana</td>\n",
       "      <td>283458.0</td>\n",
       "      <td>FERNANDEZ</td>\n",
       "      <td>DIEGO HERNAN</td>\n",
       "      <td>Masculino</td>\n",
       "    </tr>\n",
       "    <tr>\n",
       "      <th>173</th>\n",
       "      <td>20-22366623-0</td>\n",
       "      <td>2020</td>\n",
       "      <td>1</td>\n",
       "      <td>SECR Integración Social Para Personas Mayores</td>\n",
       "      <td>283458.0</td>\n",
       "      <td>COSTANTINO</td>\n",
       "      <td>SERGIO GABRIEL</td>\n",
       "      <td>Masculino</td>\n",
       "    </tr>\n",
       "    <tr>\n",
       "      <th>29</th>\n",
       "      <td>20-16461252-0</td>\n",
       "      <td>2020</td>\n",
       "      <td>6</td>\n",
       "      <td>Ministerio de Salud</td>\n",
       "      <td>311939.0</td>\n",
       "      <td>GONZALEZ BERNALDO DE QUIROS</td>\n",
       "      <td>FERNAN</td>\n",
       "      <td>Masculino</td>\n",
       "    </tr>\n",
       "    <tr>\n",
       "      <th>217</th>\n",
       "      <td>20-29751476-9</td>\n",
       "      <td>2020</td>\n",
       "      <td>5</td>\n",
       "      <td>SECR Atención Ciudadana y Gestión Comunal</td>\n",
       "      <td>283458.0</td>\n",
       "      <td>CARRILLO</td>\n",
       "      <td>FACUNDO</td>\n",
       "      <td>Masculino</td>\n",
       "    </tr>\n",
       "    <tr>\n",
       "      <th>162</th>\n",
       "      <td>20-16891539-0</td>\n",
       "      <td>2020</td>\n",
       "      <td>2</td>\n",
       "      <td>Ente de Turismo Ley Nº 2627</td>\n",
       "      <td>283458.0</td>\n",
       "      <td>ROBREDO</td>\n",
       "      <td>GONZALO</td>\n",
       "      <td>Masculino</td>\n",
       "    </tr>\n",
       "    <tr>\n",
       "      <th>6</th>\n",
       "      <td>20-17692128-6</td>\n",
       "      <td>2020</td>\n",
       "      <td>7</td>\n",
       "      <td>Jefe de Gobierno</td>\n",
       "      <td>245812.0</td>\n",
       "      <td>RODRIGUEZ LARRETA</td>\n",
       "      <td>HORACIO ANTONIO</td>\n",
       "      <td>Masculino</td>\n",
       "    </tr>\n",
       "    <tr>\n",
       "      <th>135</th>\n",
       "      <td>20-28908968-4</td>\n",
       "      <td>2020</td>\n",
       "      <td>8</td>\n",
       "      <td>SECR de Medios</td>\n",
       "      <td>303802.0</td>\n",
       "      <td>COELHO CHICANO</td>\n",
       "      <td>CHRISTIAN</td>\n",
       "      <td>Masculino</td>\n",
       "    </tr>\n",
       "  </tbody>\n",
       "</table>\n",
       "</div>"
      ],
      "text/plain": [
       "              CUIL   AÑO  MES  \\\n",
       "65   20-25641207-2  2020    2   \n",
       "123  20-24424714-9  2020    4   \n",
       "227  20-30593774-7  2020    7   \n",
       "171  20-22293622-6  2020    7   \n",
       "173  20-22366623-0  2020    1   \n",
       "29   20-16461252-0  2020    6   \n",
       "217  20-29751476-9  2020    5   \n",
       "162  20-16891539-0  2020    2   \n",
       "6    20-17692128-6  2020    7   \n",
       "135  20-28908968-4  2020    8   \n",
       "\n",
       "                                                 CARGO   SALARIO  \\\n",
       "65                               Ministerio de Cultura  311939.0   \n",
       "123                          SECR Justicia y Seguridad  303802.0   \n",
       "227  SECR Planificación, Evaluación y Coordinación ...  283458.0   \n",
       "171                   SECR Integración Social y Urbana  283458.0   \n",
       "173      SECR Integración Social Para Personas Mayores  283458.0   \n",
       "29                                 Ministerio de Salud  311939.0   \n",
       "217          SECR Atención Ciudadana y Gestión Comunal  283458.0   \n",
       "162                        Ente de Turismo Ley Nº 2627  283458.0   \n",
       "6                                     Jefe de Gobierno  245812.0   \n",
       "135                                     SECR de Medios  303802.0   \n",
       "\n",
       "                        APELLIDO            NOMBRES       SEXO  \n",
       "65                      AVOGADRO       ENRIQUE LUIS  Masculino  \n",
       "123                 D'ALESSANDRO     MARCELO SILVIO  Masculino  \n",
       "227                   AVELLANEDA   PATRICIO IGNACIO  Masculino  \n",
       "171                    FERNANDEZ       DIEGO HERNAN  Masculino  \n",
       "173                   COSTANTINO     SERGIO GABRIEL  Masculino  \n",
       "29   GONZALEZ BERNALDO DE QUIROS             FERNAN  Masculino  \n",
       "217                     CARRILLO            FACUNDO  Masculino  \n",
       "162                      ROBREDO            GONZALO  Masculino  \n",
       "6              RODRIGUEZ LARRETA    HORACIO ANTONIO  Masculino  \n",
       "135               COELHO CHICANO          CHRISTIAN  Masculino  "
      ]
     },
     "execution_count": 238,
     "metadata": {},
     "output_type": "execute_result"
    }
   ],
   "source": [
    "df2020.sample(10)"
   ]
  },
  {
   "cell_type": "markdown",
   "metadata": {},
   "source": [
    "**Utilizando `value_counts` podemos contar las apariciones de cada valor existente en una columna**\n",
    "\n",
    "Este método tiene distintas opciones, como por ejemplo la de normalizar los valores para entender su distribución en el conjunto de datos. "
   ]
  },
  {
   "cell_type": "code",
   "execution_count": 239,
   "metadata": {},
   "outputs": [
    {
     "data": {
      "text/plain": [
       "Masculino    185\n",
       "Femenino      60\n",
       "Name: SEXO, dtype: int64"
      ]
     },
     "execution_count": 239,
     "metadata": {},
     "output_type": "execute_result"
    }
   ],
   "source": [
    "df2020['SEXO'].value_counts()"
   ]
  },
  {
   "cell_type": "code",
   "execution_count": 240,
   "metadata": {},
   "outputs": [
    {
     "data": {
      "text/plain": [
       "Masculino    0.755102\n",
       "Femenino     0.244898\n",
       "Name: SEXO, dtype: float64"
      ]
     },
     "execution_count": 240,
     "metadata": {},
     "output_type": "execute_result"
    }
   ],
   "source": [
    "df2020['SEXO'].value_counts(normalize = True)"
   ]
  },
  {
   "cell_type": "markdown",
   "metadata": {},
   "source": [
    "**Para simplicar el analisis vamos a tomar solo un mes de cada año. Podemos a plicar un filtro al dataframe y asignarlo al mismo df para reemplazar sus valores.**"
   ]
  },
  {
   "cell_type": "code",
   "execution_count": 241,
   "metadata": {},
   "outputs": [],
   "source": [
    "df2020 = df2020[(df2020.MES == 1)]\n",
    "df2015 = df2015[(df2015.MES == 1)]"
   ]
  },
  {
   "cell_type": "code",
   "execution_count": 242,
   "metadata": {},
   "outputs": [
    {
     "data": {
      "text/plain": [
       "(31, 8)"
      ]
     },
     "execution_count": 242,
     "metadata": {},
     "output_type": "execute_result"
    }
   ],
   "source": [
    "df2020.shape"
   ]
  },
  {
   "cell_type": "code",
   "execution_count": 243,
   "metadata": {},
   "outputs": [
    {
     "data": {
      "text/plain": [
       "(22, 6)"
      ]
     },
     "execution_count": 243,
     "metadata": {},
     "output_type": "execute_result"
    }
   ],
   "source": [
    "df2015.shape"
   ]
  },
  {
   "cell_type": "markdown",
   "metadata": {},
   "source": [
    "## **4. Graficar los datos**\n",
    "**4.1. Distribución de sexo en cargos**"
   ]
  },
  {
   "cell_type": "markdown",
   "metadata": {},
   "source": [
    "Con un gráfico de torta podemos mostrar la distribucion de cargos por sexo"
   ]
  },
  {
   "cell_type": "code",
   "execution_count": 244,
   "metadata": {},
   "outputs": [
    {
     "data": {
      "image/png": "[encoded data removed]",
      "text/plain": [
       "<Figure size 360x360 with 1 Axes>"
      ]
     },
     "metadata": {},
     "output_type": "display_data"
    }
   ],
   "source": [
    "x = df2020['SEXO'].value_counts().to_list()\n",
    "y = df2020['SEXO'].value_counts().index.tolist()\n",
    "\n",
    "plt.figure(figsize=(5,5))\n",
    "\n",
    "# %.2f define que mostrara hasta 2 decimales\n",
    "# %% se usa para agregar % al final del numero\n",
    "plt.pie(x, colors = ['blue','purple'],labels=y, autopct='%.2f%%') \n",
    "plt.show()"
   ]
  },
  {
   "cell_type": "markdown",
   "metadata": {},
   "source": [
    "**4.2. Salario medio por sexo**"
   ]
  },
  {
   "cell_type": "markdown",
   "metadata": {},
   "source": [
    "Veamos cual es el salario medio (mean) por sexo y usemos un grafico de barra para mostrarlo.\n",
    "\n",
    "**Con style podemos elegir distintos estilos para aplicar en nuestros graficos**"
   ]
  },
  {
   "cell_type": "code",
   "execution_count": 245,
   "metadata": {},
   "outputs": [
    {
     "data": {
      "image/png": "[encoded data removed]",
      "text/plain": [
       "<Figure size 432x288 with 1 Axes>"
      ]
     },
     "metadata": {},
     "output_type": "display_data"
    }
   ],
   "source": [
    "from matplotlib import style\n",
    "#style.available\n",
    "style.use('ggplot')\n",
    "\n",
    "salario_mediana = df2020.pivot_table('SALARIO', index='SEXO', aggfunc='mean')\n",
    "salario_mediana.plot(kind='barh', xlim=[290000,310000])\n",
    "\n",
    "plt.title('Distribución de salario por sexo')\n",
    "plt.ylabel('Sexo')\n",
    "plt.xlabel('Salario medio');"
   ]
  },
  {
   "cell_type": "markdown",
   "metadata": {},
   "source": [
    "Si bien hay menos mujeres, vemos que tienden a tener un salario mayor que los hombres.\n",
    "\n",
    "Veamos con un poco mas de detalle esto en los datos usando un grafico de dispersion (scatter plot). "
   ]
  },
  {
   "cell_type": "code",
   "execution_count": 176,
   "metadata": {},
   "outputs": [
    {
     "data": {
      "image/png": "[encoded data removed]",
      "text/plain": [
       "<Figure size 432x288 with 1 Axes>"
      ]
     },
     "metadata": {},
     "output_type": "display_data"
    }
   ],
   "source": [
    "df2020.plot.scatter(x='SEXO',y='SALARIO');"
   ]
  },
  {
   "cell_type": "markdown",
   "metadata": {},
   "source": [
    "**4.3. Comparación salario 2015 vs 2020**"
   ]
  },
  {
   "cell_type": "markdown",
   "metadata": {},
   "source": [
    "Con un histograma podemos mostrar la distribución de los valores, al ejecutarlos juntos podemos verlos en un mismo gráfico. "
   ]
  },
  {
   "cell_type": "code",
   "execution_count": 177,
   "metadata": {},
   "outputs": [
    {
     "data": {
      "image/png": "[encoded data removed]",
      "text/plain": [
       "<Figure size 432x288 with 1 Axes>"
      ]
     },
     "metadata": {},
     "output_type": "display_data"
    }
   ],
   "source": [
    "df2020.SALARIO.hist();\n",
    "df2015.SALARIO.hist();"
   ]
  },
  {
   "cell_type": "markdown",
   "metadata": {},
   "source": [
    "Con un boxplot podemos ver fácilmente la distribución de los valores, cual es su minimo, máximo y media. "
   ]
  },
  {
   "cell_type": "code",
   "execution_count": 178,
   "metadata": {
    "scrolled": true
   },
   "outputs": [
    {
     "data": {
      "image/png": "[encoded data removed]",
      "text/plain": [
       "<Figure size 432x288 with 1 Axes>"
      ]
     },
     "metadata": {},
     "output_type": "display_data"
    }
   ],
   "source": [
    "df2020.boxplot('SALARIO');\n",
    "df2015.boxplot('SALARIO');"
   ]
  },
  {
   "cell_type": "code",
   "execution_count": 181,
   "metadata": {},
   "outputs": [
    {
     "data": {
      "text/plain": [
       "count        31.000000\n",
       "mean     296254.161290\n",
       "std       18594.816436\n",
       "min      245812.000000\n",
       "25%      283458.000000\n",
       "50%      303802.000000\n",
       "75%      311939.000000\n",
       "max      311939.000000\n",
       "Name: SALARIO, dtype: float64"
      ]
     },
     "execution_count": 181,
     "metadata": {},
     "output_type": "execute_result"
    }
   ],
   "source": [
    "df2020.SALARIO.describe()"
   ]
  },
  {
   "cell_type": "code",
   "execution_count": 182,
   "metadata": {},
   "outputs": [
    {
     "data": {
      "text/plain": [
       "count       22.000000\n",
       "mean     62262.672727\n",
       "std      14009.420087\n",
       "min       6300.000000\n",
       "25%      64446.850000\n",
       "50%      68675.100000\n",
       "75%      68675.100000\n",
       "max      68675.100000\n",
       "Name: SALARIO, dtype: float64"
      ]
     },
     "execution_count": 182,
     "metadata": {},
     "output_type": "execute_result"
    }
   ],
   "source": [
    "df2015.SALARIO.describe()"
   ]
  },
  {
   "cell_type": "markdown",
   "metadata": {},
   "source": [
    "**No es una comparacion valida debido a la inflacion, vamos a convertir los salarios en dolares:**\n",
    "- Cotizacion dolar al 30/01/2015 = $8.57\n",
    "\n",
    "- Cotizacion dolar al 30/01/2020 = $58.47"
   ]
  },
  {
   "cell_type": "code",
   "execution_count": 183,
   "metadata": {},
   "outputs": [],
   "source": [
    "df2020.SALARIO = df2020.SALARIO / 58.47;\n",
    "df2015.SALARIO = df2015.SALARIO / 8.57;"
   ]
  },
  {
   "cell_type": "markdown",
   "metadata": {},
   "source": [
    "Vamos a explorar la distrinución de los datos nuevamente."
   ]
  },
  {
   "cell_type": "code",
   "execution_count": 188,
   "metadata": {},
   "outputs": [
    {
     "data": {
      "image/png": "[encoded data removed]",
      "text/plain": [
       "<Figure size 432x288 with 1 Axes>"
      ]
     },
     "metadata": {},
     "output_type": "display_data"
    }
   ],
   "source": [
    "df2020.SALARIO.hist(color='blue');\n",
    "df2015.SALARIO.hist(color='green');"
   ]
  },
  {
   "cell_type": "code",
   "execution_count": 187,
   "metadata": {},
   "outputs": [
    {
     "data": {
      "image/png": "[encoded data removed]",
      "text/plain": [
       "<Figure size 432x288 with 1 Axes>"
      ]
     },
     "metadata": {},
     "output_type": "display_data"
    }
   ],
   "source": [
    "df2020.boxplot('SALARIO');\n",
    "df2015.boxplot('SALARIO');"
   ]
  },
  {
   "cell_type": "markdown",
   "metadata": {},
   "source": [
    "**Para facilitar la visualización podemos simplicar el gráfico y reducirlo a una medida importante que pueda dar la misma impresión**\n",
    "\n",
    "Calculemos la media del salario para cada año y mostremoslo en un gráfico de barras. "
   ]
  },
  {
   "cell_type": "code",
   "execution_count": 199,
   "metadata": {},
   "outputs": [],
   "source": [
    "media = [[df2020.SALARIO.mean(), df2015.SALARIO.mean()]]\n",
    "df_media = pd.DataFrame(media, columns = ['2020', '2015'])"
   ]
  },
  {
   "cell_type": "code",
   "execution_count": 247,
   "metadata": {},
   "outputs": [
    {
     "data": {
      "image/png": "[encoded data removed]",
      "text/plain": [
       "<Figure size 432x288 with 1 Axes>"
      ]
     },
     "metadata": {},
     "output_type": "display_data"
    }
   ],
   "source": [
    "df_media.plot(kind='barh')\n",
    "\n",
    "plt.title('Salario medio por año')\n",
    "plt.ylabel('Año')\n",
    "plt.xlabel('Salario medio');"
   ]
  },
  {
   "cell_type": "code",
   "execution_count": null,
   "metadata": {},
   "outputs": [],
   "source": []
  }
 ],
 "metadata": {
  "kernelspec": {
   "display_name": "Python 3",
   "language": "python",
   "name": "python3"
  },
  "language_info": {
   "codemirror_mode": {
    "name": "ipython",
    "version": 3
   },
   "file_extension": ".py",
   "mimetype": "text/x-python",
   "name": "python",
   "nbconvert_exporter": "python",
   "pygments_lexer": "ipython3",
   "version": "3.7.9"
  }
 },
 "nbformat": 4,
 "nbformat_minor": 4
}
